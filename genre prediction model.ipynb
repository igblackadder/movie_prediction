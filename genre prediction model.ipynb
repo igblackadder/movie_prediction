{
 "cells": [
  {
   "cell_type": "markdown",
   "metadata": {},
   "source": [
    "# Predicting movie genre from a synopsis\n",
    "\n",
    "This is an interesting problem in machine learning combining **text analysis** and **multilabel prediction**.\n",
    "\n",
    "The result is a model with an excellent **average f1$_{micro}$ test score of 0.57**. The model is an ensemble of naive bayes, support vector machines, random forest and stochastic gradient descent reached after reached after wrangling the data and cross validating each approach seperately.\n",
    "\n",
    "Wrangling text data presents an interesting problem since you can't make a plot in 10000 dimensions. However by using mutual information functions to identify features that were overfitted (for example names and numbers) I improved the generalization of the fit.\n",
    "\n",
    "Multilabel classification is also a rich area of research. While some models can natively handle multiple labels (like random forests) most need adaptation. And to improve the f1 score I found that a thresholding function was needed which both varied the cutoff score required to predict a label and mandated a minimum number of predicted labels per movie.\n",
    "\n",
    "Brevity demands that I not show all of the dead ends that I pursued in this project. Where a decision appears precient I have attempted justify the choice in the surrounding text.\n",
    "\n",
    "The outline is as follows:\n",
    "\n",
    "1. The data is imported and prepped for analysis.\n",
    "2. The features are analysed and appropriate choices made to improve the fit.\n",
    "3. A dummy model is defined to create a reasonable benchmark\n",
    "4. Multilabel classification classes are defined to generalise single label models and provide adjustable cutoffs.\n",
    "5. A number of models are tested, with parameters found through cross validation.\n",
    "6. Test set result of final model\n",
    "7. A short discussion on future work"
   ]
  },
  {
   "cell_type": "code",
   "execution_count": 1,
   "metadata": {
    "collapsed": false
   },
   "outputs": [
    {
     "name": "stderr",
     "output_type": "stream",
     "text": [
      "/Users/gordonblackadder/Library/Enthought/Canopy_64bit/User/lib/python2.7/site-packages/matplotlib/font_manager.py:273: UserWarning: Matplotlib is building the font cache using fc-list. This may take a moment.\n",
      "  warnings.warn('Matplotlib is building the font cache using fc-list. This may take a moment.')\n"
     ]
    }
   ],
   "source": [
    "import pandas as pd\n",
    "import chardet\n",
    "import re as re\n",
    "import warnings\n",
    "import numpy as np\n",
    "import matplotlib.pyplot as plt\n",
    "%matplotlib inline\n",
    "from __future__ import division\n",
    "\n",
    "#some useful distributions\n",
    "from scipy.stats import expon as sp_expon\n",
    "from scipy.stats import randint as sp_randint\n",
    "from scipy.stats import uniform as sp_uniform\n",
    "\n",
    "#sklearn utilities\n",
    "from sklearn.base import MetaEstimatorMixin,BaseEstimator, TransformerMixin,ClassifierMixin\n",
    "from sklearn.decomposition import TruncatedSVD\n",
    "from sklearn.ensemble import VotingClassifier\n",
    "from sklearn.feature_extraction.text import CountVectorizer, TfidfVectorizer\n",
    "from sklearn.feature_selection import SelectKBest, SelectPercentile, chi2, f_classif, mutual_info_classif\n",
    "from sklearn.linear_model import LinearRegression\n",
    "from sklearn.metrics import f1_score, make_scorer\n",
    "from sklearn.model_selection import train_test_split, GridSearchCV, RandomizedSearchCV\n",
    "from sklearn.multiclass import OneVsRestClassifier\n",
    "from sklearn.multioutput import MultiOutputClassifier\n",
    "from sklearn.pipeline import Pipeline\n",
    "from sklearn.preprocessing import FunctionTransformer, MultiLabelBinarizer\n",
    "\n",
    "\n",
    "#Models  \n",
    "from sklearn.dummy import DummyClassifier\n",
    "from sklearn.naive_bayes import MultinomialNB\n",
    "from sklearn.ensemble import RandomForestClassifier\n",
    "from sklearn.linear_model import SGDClassifier\n",
    "from sklearn.svm import LinearSVC, SVC"
   ]
  },
  {
   "cell_type": "markdown",
   "metadata": {},
   "source": [
    "## 1. Import movie data and prepare it for analysis"
   ]
  },
  {
   "cell_type": "markdown",
   "metadata": {},
   "source": [
    "There are two data files. One containing the basic information about the movie (name, country, genre etc) and another file containing the synopses. Let's import the first file."
   ]
  },
  {
   "cell_type": "code",
   "execution_count": 2,
   "metadata": {
    "collapsed": false
   },
   "outputs": [],
   "source": [
    "movieData = pd.read_csv('movie.metadata.tsv', sep='\\t', header=0, encoding='utf-8',\n",
    "                        names=[\"WikipediaID\", \"FreebaseID\", \"name\", \"date\", \"boxOffice\", \"runtime\",\n",
    "                               \"languages\", \"countries\", \"genres\"],\n",
    "                        usecols=[\"WikipediaID\", \"name\", \"date\", \"languages\", \"countries\", \"genres\"],\n",
    "                        index_col=0)\n",
    "movieData.dropna(subset=['genres'], inplace=True)#this was found to improve the quality of the fit"
   ]
  },
  {
   "cell_type": "markdown",
   "metadata": {},
   "source": [
    "Let's look at what a sample of this data lookes like"
   ]
  },
  {
   "cell_type": "code",
   "execution_count": 3,
   "metadata": {
    "collapsed": false
   },
   "outputs": [
    {
     "data": {
      "text/plain": [
       "name                                          The Hunger Games\n",
       "date                                                2012-03-12\n",
       "languages                   {\"/m/02h40lc\": \"English Language\"}\n",
       "countries            {\"/m/09c7w0\": \"United States of America\"}\n",
       "genres       {\"/m/03btsm8\": \"Action/Adventure\", \"/m/06n90\":...\n",
       "Name: 31186339, dtype: object"
      ]
     },
     "execution_count": 3,
     "metadata": {},
     "output_type": "execute_result"
    }
   ],
   "source": [
    "movieData.ix[31186339]"
   ]
  },
  {
   "cell_type": "markdown",
   "metadata": {},
   "source": [
    "Since we are interested specifically in predicting the genre of the movie, let's looks at that closer. The genre information is presented with some tagging information that we don't need, for example"
   ]
  },
  {
   "cell_type": "code",
   "execution_count": 4,
   "metadata": {
    "collapsed": false
   },
   "outputs": [
    {
     "data": {
      "text/plain": [
       "u'{\"/m/03btsm8\": \"Action/Adventure\", \"/m/06n90\": \"Science Fiction\", \"/m/02kdv5l\": \"Action\", \"/m/07s9rl0\": \"Drama\"}'"
      ]
     },
     "execution_count": 4,
     "metadata": {},
     "output_type": "execute_result"
    }
   ],
   "source": [
    "movieData[\"genres\"].ix[31186339]"
   ]
  },
  {
   "cell_type": "markdown",
   "metadata": {},
   "source": [
    "So let's just extract the genre information we want"
   ]
  },
  {
   "cell_type": "code",
   "execution_count": 5,
   "metadata": {
    "collapsed": false
   },
   "outputs": [
    {
     "data": {
      "text/plain": [
       "[u'Mystery', u'Biographical film', u'Drama', u'Crime Drama']"
      ]
     },
     "execution_count": 5,
     "metadata": {},
     "output_type": "execute_result"
    }
   ],
   "source": [
    "def extractTags(string):\n",
    "    return re.findall('\"([\\w\\s]+)\"', string)\n",
    "\n",
    "movieData[\"genres\"] = movieData[\"genres\"].apply(extractTags)\n",
    "movieData[\"genres\"].ix[3196793]"
   ]
  },
  {
   "cell_type": "markdown",
   "metadata": {},
   "source": [
    "We can use the same extractor to get the language and country tags, although neither the countries nor the languages will be used in the current analysis. In fact we are going to focus on predicting the genre for english language movies only, at least for the time being."
   ]
  },
  {
   "cell_type": "code",
   "execution_count": 6,
   "metadata": {
    "collapsed": false
   },
   "outputs": [],
   "source": [
    "movieData[\"languages\"] = movieData[\"languages\"].apply(extractTags)\n",
    "movieData[\"countries\"] = movieData[\"countries\"].apply(extractTags)\n",
    "\n",
    "isInEnglish = lambda langauges : u'English Language' in langauges\n",
    "movieData = movieData[movieData.languages.apply(isInEnglish)]"
   ]
  },
  {
   "cell_type": "markdown",
   "metadata": {},
   "source": [
    "Now we will import the synopsis data that we will use to predict the genres. First let's check the encoding"
   ]
  },
  {
   "cell_type": "code",
   "execution_count": 7,
   "metadata": {
    "collapsed": false
   },
   "outputs": [
    {
     "name": "stdout",
     "output_type": "stream",
     "text": [
      "23890098\tShlykov, a hard-working taxi driver and Lyosha, a saxophonist, develop a bizarre love-hate relationship, and despite their prejudices, realize they aren't so different after all.\n",
      "31186339\tThe nation of Panem consists of a wealthy Capitol and twelve poorer districts. As punishment for a past rebellion, each district must provide a boy and girl  between the ages of 12 and 18 selected by lottery  for the annual Hunger Games. The tributes must fight to the death in an arena; the sole surviv\n"
     ]
    },
    {
     "data": {
      "text/plain": [
       "{'confidence': 0.99, 'encoding': 'utf-8'}"
      ]
     },
     "execution_count": 7,
     "metadata": {},
     "output_type": "execute_result"
    }
   ],
   "source": [
    "file_object  = open('plot_summaries.txt', 'r')\n",
    "print file_object.read(500) \n",
    "rawdata = file_object.read()\n",
    "chardet.detect(rawdata)"
   ]
  },
  {
   "cell_type": "markdown",
   "metadata": {},
   "source": [
    "Confident that the data is in the standard utf-8 format, let's import the data"
   ]
  },
  {
   "cell_type": "code",
   "execution_count": 8,
   "metadata": {
    "collapsed": false
   },
   "outputs": [],
   "source": [
    "plot = pd.read_csv(\"plot_summaries.txt\", sep='\\t', encoding='utf-8', \n",
    "                   names=[\"ident\", \"synopsis\"], index_col=0)"
   ]
  },
  {
   "cell_type": "markdown",
   "metadata": {},
   "source": [
    "The summary data simply contains the ID number and the synopsis, e.g."
   ]
  },
  {
   "cell_type": "code",
   "execution_count": 9,
   "metadata": {
    "collapsed": false
   },
   "outputs": [
    {
     "data": {
      "text/plain": [
       "synopsis    The nation of Panem consists of a wealthy Capi...\n",
       "Name: 31186339, dtype: object"
      ]
     },
     "execution_count": 9,
     "metadata": {},
     "output_type": "execute_result"
    }
   ],
   "source": [
    "plot.ix[31186339]"
   ]
  },
  {
   "cell_type": "markdown",
   "metadata": {},
   "source": [
    "Now let's combine the two files, pairing each movie with its synopsis"
   ]
  },
  {
   "cell_type": "code",
   "execution_count": 10,
   "metadata": {
    "collapsed": false
   },
   "outputs": [
    {
     "data": {
      "text/html": [
       "<div>\n",
       "<table border=\"1\" class=\"dataframe\">\n",
       "  <thead>\n",
       "    <tr style=\"text-align: right;\">\n",
       "      <th></th>\n",
       "      <th>name</th>\n",
       "      <th>date</th>\n",
       "      <th>languages</th>\n",
       "      <th>countries</th>\n",
       "      <th>genres</th>\n",
       "      <th>synopsis</th>\n",
       "    </tr>\n",
       "  </thead>\n",
       "  <tbody>\n",
       "    <tr>\n",
       "      <th>31186339</th>\n",
       "      <td>The Hunger Games</td>\n",
       "      <td>2012-03-12</td>\n",
       "      <td>[English Language]</td>\n",
       "      <td>[United States of America]</td>\n",
       "      <td>[Science Fiction, Action, Drama]</td>\n",
       "      <td>The nation of Panem consists of a wealthy Capi...</td>\n",
       "    </tr>\n",
       "    <tr>\n",
       "      <th>2231378</th>\n",
       "      <td>The Lemon Drop Kid</td>\n",
       "      <td>1951-03-08</td>\n",
       "      <td>[English Language]</td>\n",
       "      <td>[United States of America]</td>\n",
       "      <td>[Screwball comedy, Comedy]</td>\n",
       "      <td>The Lemon Drop Kid , a New York City swindler,...</td>\n",
       "    </tr>\n",
       "    <tr>\n",
       "      <th>595909</th>\n",
       "      <td>A Cry in the Dark</td>\n",
       "      <td>1988-11-03</td>\n",
       "      <td>[English Language]</td>\n",
       "      <td>[United States of America, Australia, New Zeal...</td>\n",
       "      <td>[Crime Fiction, Drama, Docudrama, World cinema...</td>\n",
       "      <td>Seventh-day Adventist Church pastor Michael Ch...</td>\n",
       "    </tr>\n",
       "    <tr>\n",
       "      <th>5272176</th>\n",
       "      <td>End Game</td>\n",
       "      <td>2006</td>\n",
       "      <td>[English Language]</td>\n",
       "      <td>[United States of America, Canada, Germany]</td>\n",
       "      <td>[Thriller, Action, Drama]</td>\n",
       "      <td>The president is on his way to give a speech. ...</td>\n",
       "    </tr>\n",
       "    <tr>\n",
       "      <th>1952976</th>\n",
       "      <td>Dark Water</td>\n",
       "      <td>2005-06-27</td>\n",
       "      <td>[English Language]</td>\n",
       "      <td>[United States of America]</td>\n",
       "      <td>[Thriller, Drama, Horror]</td>\n",
       "      <td>{{plot}} The film opens in 1974, as a young gi...</td>\n",
       "    </tr>\n",
       "  </tbody>\n",
       "</table>\n",
       "</div>"
      ],
      "text/plain": [
       "                        name        date           languages  \\\n",
       "31186339    The Hunger Games  2012-03-12  [English Language]   \n",
       "2231378   The Lemon Drop Kid  1951-03-08  [English Language]   \n",
       "595909     A Cry in the Dark  1988-11-03  [English Language]   \n",
       "5272176             End Game        2006  [English Language]   \n",
       "1952976           Dark Water  2005-06-27  [English Language]   \n",
       "\n",
       "                                                  countries  \\\n",
       "31186339                         [United States of America]   \n",
       "2231378                          [United States of America]   \n",
       "595909    [United States of America, Australia, New Zeal...   \n",
       "5272176         [United States of America, Canada, Germany]   \n",
       "1952976                          [United States of America]   \n",
       "\n",
       "                                                     genres  \\\n",
       "31186339                   [Science Fiction, Action, Drama]   \n",
       "2231378                          [Screwball comedy, Comedy]   \n",
       "595909    [Crime Fiction, Drama, Docudrama, World cinema...   \n",
       "5272176                           [Thriller, Action, Drama]   \n",
       "1952976                           [Thriller, Drama, Horror]   \n",
       "\n",
       "                                                   synopsis  \n",
       "31186339  The nation of Panem consists of a wealthy Capi...  \n",
       "2231378   The Lemon Drop Kid , a New York City swindler,...  \n",
       "595909    Seventh-day Adventist Church pastor Michael Ch...  \n",
       "5272176   The president is on his way to give a speech. ...  \n",
       "1952976   {{plot}} The film opens in 1974, as a young gi...  "
      ]
     },
     "execution_count": 10,
     "metadata": {},
     "output_type": "execute_result"
    }
   ],
   "source": [
    "result = pd.merge(movieData, plot, left_index=True, right_index=True, how='inner')\n",
    "result.head()"
   ]
  },
  {
   "cell_type": "markdown",
   "metadata": {},
   "source": [
    "### Prepare the training labels"
   ]
  },
  {
   "cell_type": "markdown",
   "metadata": {},
   "source": [
    "We first need to transform the training labels. At the moment they look like this"
   ]
  },
  {
   "cell_type": "code",
   "execution_count": 11,
   "metadata": {
    "collapsed": false
   },
   "outputs": [
    {
     "data": {
      "text/plain": [
       "31186339    [Science Fiction, Action, Drama]\n",
       "Name: genres, dtype: object"
      ]
     },
     "execution_count": 11,
     "metadata": {},
     "output_type": "execute_result"
    }
   ],
   "source": [
    "result.genres[:1]"
   ]
  },
  {
   "cell_type": "markdown",
   "metadata": {},
   "source": [
    "These labels need to be binarized so that each genre is represented by a column and a film with a given genre is represented by a 1 in the approriate column. However there are over 300 genres listed in the wikipedia data and not all of them are what we might typically think of as a genre. They can be a detail of the movie content such as 'Airplanes and airports', tell you the place or language of the movie, like 'Bengali Cinema', or even the ditribution, e.g. u'Roadshow theatrical release'. Such descriptions are not really genres and so should be removed."
   ]
  },
  {
   "cell_type": "code",
   "execution_count": 12,
   "metadata": {
    "collapsed": false
   },
   "outputs": [],
   "source": [
    "toDelete = [u'Absurdism', u'Airplanes and airports', u'Albino bias',u'Americana',u'Animal Picture',u'Animals',u'Anthology', u'Anthropology', u'Archaeology',u'Archives and records',u'Art film', u'Beach Film',u'Beach Party film', u'Bengali Cinema',u'Blaxploitation', u'Bollywood',u'British Empire Film', u'British New Wave',u'Buddy film',u'Business', u'Camp',u'Cavalry Film', u'Chase Movie', u'Chinese Movies',u'Christmas movie',u'Cold War',u'Coming of age', u'Computers',u'Cult',u'Cyberpunk', u'Dogme 95', u'Doomsday film',u'Early Black Cinema',u'Education', u'Educational', u'Environmental Science',u'Ensemble Film', u'Escape Film', u'Essay Film', u'Existentialism',u'Experimental film', u'Exploitation', u'Expressionism', u'Fan film', u'Feature film', u'Female buddy film', u'Feminist Film', u'Fictional film', u'Filipino', u'Filipino Movies', u'Film', u'Film adaptation',u'Filmed Play', u'Foreign legion',u'Giallo',u'Goat gland', u'Gothic Film',u'Gross out',u'Hagiography', u'Holiday Film', u'Indie', u'Japanese Movies', u'Journalism',u'Jungle Film', u'Juvenile Delinquency Film',\n",
    "            u'Kafkaesque', u'Kitchen sink realism', u'Latino', u'Libraries and librarians', u'Linguistics',u'Live action',u'Media Studies',u'Medical fiction',u'Mondo film',u'Movie serial',u'Mumblecore',u'Nature',u'New Hollywood', u'News',u'Northern', u'Nuclear warfare', u'Parkour in popular culture',u'Patriotic film', \n",
    "            u'Pinku eiga', u'Plague', u'Point of view shot',u'Prison',u'Private military company',u'Propaganda film',u'Reboot', u'Remake', u'Religious Film',u'Roadshow theatrical release',\n",
    "            u'School story', u'Sexploitation', u'Sponsored film', u'Short Film',u'Singing cowboy', u'Slice of life story',u'Social issues', u'Social problem film', u'Sponsored film', u'Star vehicle',u'Statutory rape', u'Steampunk', u'Stoner film',u'Superhero', u'Superhero movie', u'Surrealism',u'Sword and Sandal', u'Sword and sorcery', u'Sword and sorcery films',  u'Television movie', u'The Netherlands in World War II',u'Tragedy', u'Travel', u'World cinema', u'Wuxia',u'Z movie'] "
   ]
  },
  {
   "cell_type": "markdown",
   "metadata": {},
   "source": [
    "Other times the genre listed can be a combinatation of several genres and so should be categorised as both seperately. This means replacing 'Action Comedy' with 'Action' and 'Comedy', and 'Alien Film' with 'Creature Film' and'Science Fiction'. Furthermore we can identify subgenres and categorise by the parent genre, for example by replacing 'Parody' with 'Comedy'. And finally we can idnetify missspellings and plurals (replacing 'Sport' with 'Sports' and 'Comdedy' with 'Comedy')."
   ]
  },
  {
   "cell_type": "code",
   "execution_count": 13,
   "metadata": {
    "collapsed": false
   },
   "outputs": [],
   "source": [
    "toReplace = [(u'Acid western', [u'Western']),(u'Action Comedy', [u'Action', u'Comedy']),(u'Action Thrillers', [u'Action', u'Thriller']),(u'Addiction Drama', [u'Drama']),(u'Adventure Comedy',[u'Adventure', u'Comedy']),(u'Alien Film', [u'Creature Film', u'Science Fiction']),(u'Alien invasion', [u'Creature Film', u'Science Fiction']),(u'Animated Musical', [u'Animation']),(u'Animated cartoon', [u'Animation']),(u'Anime', [u'Animation']),(u'Auto racing', [u'Sports']),(u'Backstage Musical', [u'Musical']),(u'Baseball', [u'Sports']),(u'Biker Film', [u'Road movie']),(u'Biographical film', [u'Biography']),(u'Black comedy', [u'Comedy']),(u'Boxing', [u'Sports']),(u'Breakdance', [u'Dance']),(u'Buddy cop', [u'Crime']),(u'Caper story', [u'Crime', u'Comedy']),(u'Chick flick', [u'Romance']),(u'Childhood Drama',[u'Drama']),(u'Christian film', [u'Religious Film']),(u'Clay animation', [u'Animation']),\n",
    "             (u'Combat Films', [u'Action']),(u'Comdedy',[u'Comedy']),(u'Comedy Thriller', [u'Comedy', u'Thriller']),(u'Comedy Western', [u'Comedy', u'Western']),(u'Comedy film', [u'Comedy']),(u'Comedy horror', [u'Comedy', u'Horror']),(u'Comedy of Errors', [u'Comedy']),(u'Comedy of manners', [u'Comedy']),(u'Computer Animation', [u'Animation']),(u'Concert film', [u'Music']),(u'Conspiracy fiction', [u'Thriller']),(u'Costume Adventure', [u'Adventure']),(u'Costume Horror', [u'Horror']),(u'Costume drama', [u'Drama']),(u'Courtroom Comedy',[u'Courtroom', u'Comedy']),(u'Courtroom Drama',[u'Courtroom', u'Drama']),(u'Creature Film', [u'Monster']), (u'Crime Comedy', [u'Crime', u'Comedy']),(u'Crime Drama', [u'Crime', u'Drama']),(u'Crime Fiction', [u'Crime']),(u'Crime Thriller', [u'Crime', u'Thriller']),(u'Demonic child', [u'Horror']),(u'Detective fiction', [u'Detective']),(u'Docudrama', [u'Drama']),(u'Domestic Comedy', [u'Comedy']),(u'Ealing Comedies', [u'Comedy']),(u'Epic Western', [u'Epic', u'Western']),(u'Erotic Drama', [u'Adult', u'Drama']),(u'Erotic thriller', [u'Adult', u'Thriller']),(u'Erotica', [u'Adult']),(u'Extreme Sports', [u'Sports']),(u'Family Drama', [u'Family Film', u'Drama']),\n",
    "             (u'Fairy Tale', [u'Fantasy']),(u'Fairy tale', [u'Fantasy']),(u'Fantasy Adventure', [u'Fantasy', u'Adventure']),(u'Fantasy Comedy', [u'Fantasy', u'Comedy']),(u'Fantasy Drama', [u'Fantasy', u'Drama']),(u'Future noir', [u'Film noir']),(u'Gangster Film', [u'Crime']),(u'Gay', [u'LGBT']),(u'Gay Interest', [ u'LGBT']),(u'Gay Themed', [ u'LGBT']), (u'Gay pornography', [ u'LGBT', u'Adult']),(u'Gender Issues', [u'LGBT']),(u'Glamorized Spy Film', [u'Spy']),\n",
    "             (u'Gulf War', [u'War film']),(u'Haunted House Film', [u'Horror']),(u'Hardcore pornography', [u'Adult']),(u'Heavenly Comedy', [u'Comedy']),(u'Heist', [u'Crime']),(u'Hip hop movies', [u'Music']),(u'Historical Documentaries', [u'History', u'Documentary']),(u'Historical Epic', [u'History']),(u'Historical drama', [u'History']),(u'Historical Drama', [u'History', u'Drama']),(u'Historical fiction', [u'History']),(u'Homoeroticism', [u'Adult', u'LGBT']),(u'Horror Comedy', [u'Horror', u'Comedy']),(u'Horse racing', [u'Sport']),(u'Humour', [u'Comedy']),(u'Hybrid Western', [u'Western']),(u'Indian Western', [u'Western']),(u'Inspirational Drama', [u'Drama']),(u'Instrumental Music', [u'Music']),(u'Interpersonal Relationships', [u'Drama']),(u'Jukebox musical', [u'Musical']),(u'Legal drama', [u'Courtroom']),(u'Marriage Drama', [u'Drama']),(u'Master Criminal Films', [u'Crime']),(u'Media Satire', [u'Comedy']),\n",
    "             (u'Melodrama', [u'Drama']),(u'Mockumentary', [u'Comedy']),(u'Monster movie', [u'Monster']),(u'Movies About Gladiators', [u'History', u'Action']),(u'Musical Drama', [u'Musical', u'Drama']),(u'Musical comedy', [u'Musical', u'Comedy']), (u'Mythological Fantasy',[u'Fantasy']),(u'Natural disaster', [u'Disaster']), (u'Natural horror films', [u'Horror']),(u'Ninja movie', [u'Martial Arts Film']),(u'Operetta', [u'Musical']),(u'Outlaw', [u'Crime']),(u'Outlaw biker film', [u'Crime', u'Road movie']),(u'Parody', [u'Comedy']),(u'Period Horror', [u'Period', u'Horror']),(u'Period piece', [u'Period']),(u'Political cinema', [u'Politics']),(u'Political drama', [u'Politics', u'Drama']),(u'Political satire', [u'Politics', u'Comedy']),(u'Political thriller', [u'Politics', u'Thriller']),(u'Pornographic movie', [u'Adult']),(u'Pornography', [u'Adult']),(u'Prison', [u'Crime']),(u'Prison escape', [u'Crime']),(u'Prison film', [u'Crime']),(u'Psychological horror', [u'Horror']),(u'Psychological thriller', [u'Thriller']),\n",
    "             (u'Punk rock', [u'Music']),(u'Race movie', ['Sports']),(u'Revisionist Fairy Tale', [u'Fantasy']),(u'Revisionist Western', [u'Western']),(u'Rockumentary', [u'Documentary', u'Music']),(u'Romance Film', [u'Romance']),(u'Romantic Film', [u'Romance']),(u'Romantic comedy', [u'Romance', u'Comedy']),(u'Romantic drama', [u'Romance', u'Drama']),(u'Romantic fantasy', [u'Romance', u'Fantasy']),(u'Samurai cinema', [u'Martial Arts Film']),(u'Satire', [u'Comedy']),(u'Sci Fi Pictures original films', [u'Science Fiction']),(u'Science fiction Western', [u'Science Fiction', u'Western']),(u'Screwball comedy', [u'Comedy']),(u'Sex comedy', [u'Comedy']),(u'Slapstick', [u'Comedy']),(u'Slasher', [u'Horror']),(u'Softcore Porn', [u'Adult']),(u'Space opera', [u'Science Fiction', u'Musical']),(u'Space western', [u'Science Fiction', u'Western']),(u'Spaghetti Western', [u'Western']),(u'Spaghetti western', [u'Western']),(u'Splatter film', [u'Horror']),(u'Sport', [ u'Sports']),(u'Stop motion', [u'Animation']),(u'Supermarionation', [u'Animation']),(u'Swashbuckler films', [u'Adventure']),\n",
    "             (u'Therimin music', [u'Music']), (u'Time travel', [u'Science Fiction']),(u'Tragicomedy', [u'Comedy', u'Tragedy']),(u'Vampire movies', [u'Horror']),(u'War effort', [u'War film']),(u'Werewolf fiction', [u'Monster']),(u'Whodunit', [u'Detective']),(u'Women in prison films', [u'Prison']),(u'World History', [u'History']),(u'Workplace Comedy', [u'Comedy']),(u'Zombie Film', [u'Monster'])]"
   ]
  },
  {
   "cell_type": "markdown",
   "metadata": {},
   "source": [
    "The following two functions can remove and replace genres."
   ]
  },
  {
   "cell_type": "code",
   "execution_count": 14,
   "metadata": {
    "collapsed": false
   },
   "outputs": [],
   "source": [
    "class wordRemover():\n",
    "    def __init__(self, word):\n",
    "        self.word = word\n",
    "        \n",
    "    def removeWord(self, listOfWords):\n",
    "        if self.word in listOfWords:\n",
    "            index = listOfWords.index(self.word)\n",
    "            del listOfWords[index]\n",
    "        return listOfWords"
   ]
  },
  {
   "cell_type": "code",
   "execution_count": 15,
   "metadata": {
    "collapsed": true
   },
   "outputs": [],
   "source": [
    "class wordReplacer():\n",
    "    def __init__(self, word, replacements):\n",
    "        self.word = word\n",
    "        self.replacements = replacements\n",
    "        \n",
    "    def replaceWord(self, listOfWords):\n",
    "        if self.word in listOfWords:\n",
    "            index = listOfWords.index(self.word)\n",
    "            del listOfWords[index]\n",
    "            for replacement in self.replacements:\n",
    "                if replacement not in listOfWords:\n",
    "                    listOfWords.append(replacement)\n",
    "        return listOfWords"
   ]
  },
  {
   "cell_type": "code",
   "execution_count": 16,
   "metadata": {
    "collapsed": true
   },
   "outputs": [],
   "source": [
    "for word in toDelete:\n",
    "    result.genres = result.genres.apply(wordRemover(word).removeWord)\n",
    "\n",
    "for word, replacements in toReplace:\n",
    "    result.genres = result.genres.apply(wordReplacer(word, replacements).replaceWord)\n",
    " "
   ]
  },
  {
   "cell_type": "markdown",
   "metadata": {},
   "source": [
    "We now binarize the data and find a total of 40 different genres."
   ]
  },
  {
   "cell_type": "code",
   "execution_count": 17,
   "metadata": {
    "collapsed": false
   },
   "outputs": [],
   "source": [
    "binarizer = MultiLabelBinarizer()\n",
    "y = binarizer.fit_transform(result.genres)"
   ]
  },
  {
   "cell_type": "code",
   "execution_count": 18,
   "metadata": {
    "collapsed": false,
    "scrolled": true
   },
   "outputs": [
    {
     "data": {
      "text/plain": [
       "array([u'Action', u'Adult', u'Adventure', u'Animation', u'Biography',\n",
       "       u'Comedy', u'Courtroom', u'Crime', u'Dance', u'Detective',\n",
       "       u'Disaster', u'Documentary', u'Drama', u'Dystopia', u'Epic',\n",
       "       u'Family Film', u'Fantasy', u'Film noir', u'History', u'Horror',\n",
       "       u'LGBT', u'Martial Arts Film', u'Monster', u'Music', u'Musical',\n",
       "       u'Mystery', u'Period', u'Politics', u'Prison', u'Religious Film',\n",
       "       u'Road movie', u'Romance', u'Science Fiction', u'Silent film',\n",
       "       u'Sports', u'Spy', u'Supernatural', u'Suspense', u'Teen',\n",
       "       u'Thriller', u'Tragedy', u'War film', u'Western'], dtype=object)"
      ]
     },
     "execution_count": 18,
     "metadata": {},
     "output_type": "execute_result"
    }
   ],
   "source": [
    "binarizer.classes_"
   ]
  },
  {
   "cell_type": "markdown",
   "metadata": {},
   "source": [
    "The genre data is stored as ones and zeros e.g."
   ]
  },
  {
   "cell_type": "code",
   "execution_count": 19,
   "metadata": {
    "collapsed": false
   },
   "outputs": [
    {
     "data": {
      "text/plain": [
       "array([[1, 0, 0, 0, 0, 0, 0, 0, 0, 0, 0, 0, 1, 0, 0, 0, 0, 0, 0, 0, 0, 0,\n",
       "        0, 0, 0, 0, 0, 0, 0, 0, 0, 0, 1, 0, 0, 0, 0, 0, 0, 0, 0, 0, 0]])"
      ]
     },
     "execution_count": 19,
     "metadata": {},
     "output_type": "execute_result"
    }
   ],
   "source": [
    "y[:1]"
   ]
  },
  {
   "cell_type": "markdown",
   "metadata": {},
   "source": [
    "But we can easily see what genres this vector corresponds to by doing an inverse transform"
   ]
  },
  {
   "cell_type": "code",
   "execution_count": 20,
   "metadata": {
    "collapsed": false
   },
   "outputs": [
    {
     "data": {
      "text/plain": [
       "[(u'Action', u'Drama', u'Science Fiction')]"
      ]
     },
     "execution_count": 20,
     "metadata": {},
     "output_type": "execute_result"
    }
   ],
   "source": [
    "binarizer.inverse_transform(y[:1])"
   ]
  },
  {
   "cell_type": "markdown",
   "metadata": {},
   "source": [
    "Note that there is some leakage from the training set to the test set by binarizing the data before the test train split. In practice this has no affect since we canot fit genres which aren't in the training set and so we will just predict false on all such genres not present in the training set."
   ]
  },
  {
   "cell_type": "markdown",
   "metadata": {},
   "source": [
    "Let's split the data set into training and test sets. We won't look at the test set again till the very end."
   ]
  },
  {
   "cell_type": "code",
   "execution_count": 21,
   "metadata": {
    "collapsed": true
   },
   "outputs": [],
   "source": [
    "X_train, X_test, y_train, y_test = train_test_split(result.synopsis,y,\n",
    "                                                    train_size=0.7, random_state = 9588)"
   ]
  },
  {
   "cell_type": "markdown",
   "metadata": {},
   "source": [
    "And now let's look at the distribution of genres."
   ]
  },
  {
   "cell_type": "code",
   "execution_count": 22,
   "metadata": {
    "collapsed": false
   },
   "outputs": [
    {
     "data": {
      "text/plain": [
       "<matplotlib.text.Text at 0x117b75ad0>"
      ]
     },
     "execution_count": 22,
     "metadata": {},
     "output_type": "execute_result"
    },
    {
     "data": {
      "image/png": "[encoded data removed]",
      "text/plain": [
       "<matplotlib.figure.Figure at 0x104eb0810>"
      ]
     },
     "metadata": {},
     "output_type": "display_data"
    }
   ],
   "source": [
    "labelCounts = y_train.sum(axis=0)\n",
    "n, bins, patches = plt.hist(labelCounts, bins=np.logspace(1, 4, 9))\n",
    "plt.semilogx()\n",
    "plt.title(\"Distribution of genre counts\")\n",
    "plt.xlabel(\"Number of movies with given genre\")\n",
    "plt.ylabel(\"Number of genres\")"
   ]
  },
  {
   "cell_type": "markdown",
   "metadata": {},
   "source": [
    "We see there are a handful of genres that appear in the training set less than a hundred times and some that appear many thousands of times with most appearing several hundred times."
   ]
  },
  {
   "cell_type": "markdown",
   "metadata": {},
   "source": [
    "## 2. Feature analysis and wrangling"
   ]
  },
  {
   "cell_type": "markdown",
   "metadata": {},
   "source": [
    "Next I want to do some text wrangling as we prepare the synopsis for predictive analysis. It is helpful to do this in the context of just a single label. I will initially use Comedy as it describes a significant portion of the data"
   ]
  },
  {
   "cell_type": "code",
   "execution_count": 23,
   "metadata": {
    "collapsed": false
   },
   "outputs": [
    {
     "data": {
      "text/plain": [
       "0.35782250158583706"
      ]
     },
     "execution_count": 23,
     "metadata": {},
     "output_type": "execute_result"
    }
   ],
   "source": [
    "genreDF = pd.DataFrame(y_train, columns = binarizer.classes_)\n",
    "genreDF.Comedy.sum()/genreDF.Comedy.count()"
   ]
  },
  {
   "cell_type": "markdown",
   "metadata": {},
   "source": [
    "So now let's wrangle the text. \n",
    "\n",
    "First, a review of the text shows that some of the data contains tags such as \"{{plot}}\""
   ]
  },
  {
   "cell_type": "code",
   "execution_count": 24,
   "metadata": {
    "collapsed": false
   },
   "outputs": [
    {
     "data": {
      "text/plain": [
       "u'{{plot}} The film opens '"
      ]
     },
     "execution_count": 24,
     "metadata": {},
     "output_type": "execute_result"
    }
   ],
   "source": [
    "X_train.ix[1952976][:24]"
   ]
  },
  {
   "cell_type": "markdown",
   "metadata": {},
   "source": [
    "In fact these tags are contained in almost 5% of the training set. "
   ]
  },
  {
   "cell_type": "code",
   "execution_count": 25,
   "metadata": {
    "collapsed": false
   },
   "outputs": [
    {
     "data": {
      "text/plain": [
       "0.045787440170693729"
      ]
     },
     "execution_count": 25,
     "metadata": {},
     "output_type": "execute_result"
    }
   ],
   "source": [
    "X_train.str.contains(\"{{\\w*}}\", case=False).mean()"
   ]
  },
  {
   "cell_type": "markdown",
   "metadata": {},
   "source": [
    "We don't just want to delete these tags once, we want easily manageable code to eventually create a data wrangling pripeline. So I'll create a transformer to delete these tags."
   ]
  },
  {
   "cell_type": "code",
   "execution_count": 26,
   "metadata": {
    "collapsed": false
   },
   "outputs": [],
   "source": [
    "def deleteSynopsisTags(X):\n",
    "    return X.str.replace(\"\\s*{{\\w*}}\\s*\", \"\", case=False)\n",
    "\n",
    "deleteSynopsisTagsTransformer = FunctionTransformer(deleteSynopsisTags, validate=False)\n",
    "\n",
    "X_wrangle_1 = deleteSynopsisTagsTransformer.fit_transform(X_train)"
   ]
  },
  {
   "cell_type": "markdown",
   "metadata": {},
   "source": [
    "And we see that the tags have now gone."
   ]
  },
  {
   "cell_type": "code",
   "execution_count": 27,
   "metadata": {
    "collapsed": false
   },
   "outputs": [
    {
     "data": {
      "text/plain": [
       "u'The film opens in 1974, '"
      ]
     },
     "execution_count": 27,
     "metadata": {},
     "output_type": "execute_result"
    }
   ],
   "source": [
    "X_wrangle_1.ix[1952976][:24]"
   ]
  },
  {
   "cell_type": "markdown",
   "metadata": {},
   "source": [
    "So now I want to start making fits to the Comedy genre data, identifying the most important features and so finding possible sources of error. \n",
    "\n",
    "First though I need to choose an appropraite score to measure the fit quality. I will choose the micro f1 score which balanaces precision (reducing false negatives) and accuracy (reducing false positives). The is implemented here for a single label (Later I will extend this to multilabel)."
   ]
  },
  {
   "cell_type": "code",
   "execution_count": 28,
   "metadata": {
    "collapsed": false
   },
   "outputs": [],
   "source": [
    "def customF1(hat, actual, **kwargs):\n",
    "    accuracy = ((actual*hat).sum())/actual.sum()\n",
    "    precision = ((actual*hat).sum())/hat.sum()\n",
    "    if accuracy==0 or precision==0:\n",
    "        f1= 0\n",
    "    else:\n",
    "        f1= 2.* pow(pow(accuracy, -1) + pow(precision, -1), -1)\n",
    "    return f1\n",
    "customF1Scorer = make_scorer(customF1, greater_is_better=True)"
   ]
  },
  {
   "cell_type": "markdown",
   "metadata": {},
   "source": [
    "So let's identify the most important features and the quality of the fit. The folloiwng code vectorizes the synopsis, and prints out the 200 most important words for determing whether a movie is a comedy using a $\\chi^2$ imformation metric. Next we perform a fit over the most important features and print the resulting cross validation score and training score. By printing both we will identify possible overfitting."
   ]
  },
  {
   "cell_type": "code",
   "execution_count": null,
   "metadata": {
    "collapsed": false
   },
   "outputs": [],
   "source": [
    "def mostImportantFeatrures(X, y):\n",
    "    count = CountVectorizer(lowercase=False, strip_accents='unicode', min_df = 3, stop_words='english')\n",
    "    #print the most important features\n",
    "    selector = SelectKBest(chi2, 200)\n",
    "    X_Vec = count.fit_transform(X, y)\n",
    "    X_select = selector.fit_transform(X_Vec, y)\n",
    "    print np.unique([name for name, val in zip(count.get_feature_names(), \n",
    "                                               selector.get_support()) \n",
    "                     if val==True])\n",
    "    #get a fit score based on the most important featrures\n",
    "    MultinomialPipe = Pipeline([\n",
    "                                (\"count\", count),\n",
    "                                (\"selector\", SelectPercentile(chi2)),\n",
    "                                (\"model\", MultinomialNB(alpha = 1e-9, fit_prior=False))\n",
    "                               ])\n",
    "    rs = RandomizedSearchCV(MultinomialPipe, param_distributions={\"selector__percentile\":sp_randint(1, 50)}, \n",
    "                            n_iter=10,\n",
    "                            scoring=customF1Scorer, verbose=0, \n",
    "                            refit=True, n_jobs=-1, \n",
    "                            cv=3\n",
    "                           )\n",
    "    rs.fit(X, y)\n",
    "    print \"grid search best score = \", rs.best_score_\n",
    "    print \"grid search best param = \", rs.best_params_ \n",
    "    hYat = rs.predict(X)\n",
    "    print \"score on training data = \", customF1(y, hYat)"
   ]
  },
  {
   "cell_type": "code",
   "execution_count": null,
   "metadata": {
    "collapsed": false
   },
   "outputs": [
    {
     "name": "stdout",
     "output_type": "stream",
     "text": [
      "[u'Adam' u'Alfalfa' u'Alfie' u'Ambrose' u'Andy' u'Augie' u'Babe'\n",
      " u'Beethoven' u'Beverly' u'Big' u'Bishop' u'Bob' u'Bond' u'Boris'\n",
      " u'British' u'Buddy' u'Bugs' u'Butch' u'Buzz' u'Calvin' u'Captain' u'Cash'\n",
      " u'Charlie' u'Cheech' u'Chester' u'Chip' u'Chuck' u'Chucky' u'Clouseau'\n",
      " u'Coyote' u'Curly' u'Cynthia' u'Daffy' u'Dave' u'Dewey' u'Dexter'\n",
      " u'Dickie' u'Dr' u'Dreyfus' u'Elliot' u'Elmer' u'Elwood' u'Ernest' u'Ernie'\n",
      " u'Evan' u'Evil' u'Fitz' u'Garfield' u'George' u'Georgia' u'German'\n",
      " u'Gidget' u'Gonzo' u'Harold' u'Herbie' u'Hollywood' u'Ira' u'Jackie'\n",
      " u'Jacob' u'Japanese' u'Jerry' u'John' u'Joseph' u'Josh' u'Junior' u'Ka'\n",
      " u'Kui' u'Larry' u'Loretta' u'Louie' u'Madea' u'Madonna' u'Mame' u'Martin'\n",
      " u'Massie' u'Miss' u'Moe' u'Monty' u'Mr' u'Murtaugh' u'Neha' u'Ollie'\n",
      " u'Oscar' u'Pink' u'Popeye' u'Porky' u'Ralph' u'Ramona' u'Riggs' u'Roger'\n",
      " u'Sach' u'Sam' u'Sharpay' u'Shemp' u'Shrek' u'Slip' u'Spanky' u'Speedy'\n",
      " u'Spike' u'Stan' u'Stooges' u'TV' u'Tarzan' u'Tom' u'Wally' u'War'\n",
      " u'Wilby' u'Wolf' u'Woody' u'accidentally' u'aircraft' u'attack'\n",
      " u'attacked' u'attacks' u'audience' u'ball' u'band' u'battle' u'best'\n",
      " u'bet' u'blood' u'body' u'boyfriend' u'boys' u'cartoon' u'cat' u'comedy'\n",
      " u'company' u'creature' u'credits' u'dance' u'date' u'dating' u'dead'\n",
      " u'death' u'decide' u'decides' u'dies' u'dinner' u'dog' u'end' u'ends'\n",
      " u'evidence' u'feelings' u'forces' u'friends' u'gets' u'getting'\n",
      " u'girlfriend' u'girls' u'gun' u'happy' u'hockey' u'idea' u'investigation'\n",
      " u'job' u'kids' u'kill' u'killed' u'killer' u'killing' u'kills' u'kiss'\n",
      " u'married' u'men' u'military' u'mom' u'money' u'mouse' u'movie' u'murder'\n",
      " u'murdered' u'murders' u'new' u'parents' u'party' u'play' u'prom'\n",
      " u'restaurant' u'scheme' u'school' u'sex' u'ship' u'shoots' u'shot'\n",
      " u'singing' u'soldiers' u'son' u'song' u'store' u'studio' u'survivors'\n",
      " u'troops' u'village' u'war' u'wedding' u'win' u'women' u'wounded' u'young']\n",
      "score on training data =  0.764185703758\n"
     ]
    }
   ],
   "source": [
    "mostImportantFeatrures(X_wrangle_1, genreDF.Comedy)"
   ]
  },
  {
   "cell_type": "markdown",
   "metadata": {},
   "source": [
    "We see that many of the most important features are names. While we might imagine that a few names could hold some predictive power, the use of names seems likely to contribute to the overfitting we observe. Lets remove them."
   ]
  },
  {
   "cell_type": "code",
   "execution_count": null,
   "metadata": {
    "collapsed": false
   },
   "outputs": [
    {
     "name": "stdout",
     "output_type": "stream",
     "text": [
      "[u'accidentally' u'actor' u'actors' u'advertising' u'advice' u'aircraft'\n",
      " u'alive' u'antics' u'army' u'aspiring' u'attack' u'attacked' u'attacks'\n",
      " u'audience' u'awkward' u'bachelor' u'ball' u'band' u'battle' u'best'\n",
      " u'bet' u'big' u'bird' u'blood' u'body' u'bong' u'boyfriend' u'boys'\n",
      " u'bumbling' u'butler' u'canary' u'carrot' u'cartoon' u'cat' u'cave'\n",
      " u'ceremony' u'chase' u'chef' u'child' u'class' u'club' u'college'\n",
      " u'comedy' u'comic' u'command' u'commander' u'company' u'competition'\n",
      " u'contest' u'cow' u'creature' u'credits' u'crime' u'crooks' u'crush'\n",
      " u'dad' u'dance' u'date' u'dates' u'dating' u'daughter' u'dead' u'death'\n",
      " u'decide' u'decides' u'dentist' u'die' u'died' u'dies' u'dinner' u'doesn'\n",
      " u'dog' u'drug' u'duo' u'dying' u'eccentric' u'end' u'ends' u'escape'\n",
      " u'evidence' u'ex' u'executed' u'fatally' u'feelings' u'fired' u'forces'\n",
      " u'friends' u'fun' u'game' u'gets' u'getting' u'gig' u'girlfriend' u'girls'\n",
      " u'golf' u'gun' u'guys' u'happy' u'having' u'hockey' u'hospital' u'hotel'\n",
      " u'human' u'idea' u'inept' u'infected' u'investigation' u'job' u'just'\n",
      " u'kids' u'kill' u'killed' u'killer' u'killing' u'kills' u'kiss' u'knife'\n",
      " u'likes' u'limo' u'love' u'make' u'man' u'manager' u'marijuana' u'married'\n",
      " u'men' u'military' u'mishaps' u'mission' u'mistaken' u'mom' u'money'\n",
      " u'mouse' u'movie' u'murder' u'murdered' u'murders' u'musical' u'new'\n",
      " u'officer' u'orders' u'parents' u'parody' u'party' u'pay' u'penguins'\n",
      " u'performance' u'play' u'police' u'prisoner' u'prisoners' u'producer'\n",
      " u'prom' u'raped' u'reconcile' u'remaining' u'restaurant' u'scheme'\n",
      " u'school' u'script' u'sea' u'sex' u'ship' u'shoots' u'shop' u'shot'\n",
      " u'sing' u'singing' u'soldier' u'soldiers' u'son' u'song' u'spend' u'stabs'\n",
      " u'stage' u'star' u'store' u'studio' u'summer' u'survive' u'survivor'\n",
      " u'survivors' u'talent' u'tortured' u'trio' u'troops' u'victim' u'victims'\n",
      " u'village' u'visions' u'war' u'wedding' u'win' u'winning' u'women' u'woo'\n",
      " u'wounded' u'wounds' u'years' u'young']\n",
      "grid search best score =  0.654921847675\n",
      "grid search best param =  {'selector__percentile': 10}\n",
      "score on training data =  0.704650665907\n"
     ]
    }
   ],
   "source": [
    "def noCaps(X):\n",
    "    return X.str.replace(r'([A-Z])\\w+', \"\", case=True)\n",
    "\n",
    "noCapsTransform = FunctionTransformer(noCaps, validate=False)\n",
    "\n",
    "X_wrangle_2 = noCapsTransform.fit_transform(X_wrangle_1)\n",
    "mostImportantFeatrures(X_wrangle_2, genreDF.Comedy)"
   ]
  },
  {
   "cell_type": "markdown",
   "metadata": {},
   "source": [
    "We have reduced overfitting by quite a bit, although it would have been better if this gain had come from increased predictive power rather than reducing the training score. \n",
    "\n",
    "Next, we see a number of very similar words appearing, perhaps suggesting that we should use stemming to improve the fit"
   ]
  },
  {
   "cell_type": "code",
   "execution_count": null,
   "metadata": {
    "collapsed": false
   },
   "outputs": [
    {
     "name": "stdout",
     "output_type": "stream",
     "text": [
      "[u'accident' u'actor' u'advertis' u'advic' u'aircraft' u'aliv' u'ambush'\n",
      " u'antic' u'apolog' u'arm' u'armi' u'attack' u'audienc' u'awkward'\n",
      " u'bachelor' u'ball' u'band' u'battl' u'best' u'bet' u'big' u'black'\n",
      " u'blood' u'bodi' u'boyfriend' u'brutal' u'bumbl' u'burn' u'butler' u'buy'\n",
      " u'canari' u'carrot' u'cartoon' u'cat' u'cave' u'chase' u'cheerlead'\n",
      " u'chef' u'child' u'class' u'colleg' u'comedi' u'comic' u'command'\n",
      " u'compani' u'competit' u'contest' u'costum' u'creatur' u'credit' u'crime'\n",
      " u'dad' u'danc' u'dark' u'date' u'dead' u'death' u'decid' u'demon'\n",
      " u'dentist' u'desert' u'destroy' u'die' u'dinner' u'disguis' u'doesn'\n",
      " u'dog' u'dragon' u'dress' u'drug' u'eccentr' u'embarrass' u'end' u'enemi'\n",
      " u'escap' u'everyon' u'evid' u'ex' u'fatal' u'feel' u'fight' u'fighter'\n",
      " u'forc' u'friend' u'fun' u'girlfriend' u'golf' u'gun' u'guy' u'happi'\n",
      " u'helicopt' u'hockey' u'hospit' u'hotel' u'human' u'idea' u'impress'\n",
      " u'inadvert' u'inept' u'infect' u'investig' u'job' u'kid' u'kill' u'killer'\n",
      " u'kiss' u'knife' u'ladi' u'laugh' u'lot' u'love' u'make' u'man'\n",
      " u'marijuana' u'marri' u'men' u'militari' u'mishap' u'missil' u'mission'\n",
      " u'mistak' u'mom' u'money' u'mous' u'movi' u'murder' u'music' u'nerd'\n",
      " u'new' u'obnoxi' u'parent' u'parodi' u'parti' u'pay' u'penguin' u'perform'\n",
      " u'pie' u'pilot' u'plan' u'play' u'polic' u'pop' u'popular' u'power'\n",
      " u'prison' u'produc' u'product' u'prom' u'propos' u'protect' u'quit'\n",
      " u'rape' u'reconcil' u'relationship' u'remain' u'restaur' u'roommat'\n",
      " u'scheme' u'school' u'script' u'sell' u'sex' u'ship' u'shoot' u'shop'\n",
      " u'shot' u'sing' u'sniper' u'soldier' u'son' u'song' u'spend' u'stab'\n",
      " u'star' u'store' u'studio' u'submarin' u'surviv' u'survivor' u'suspect'\n",
      " u'talent' u'ticket' u'togeth' u'tortur' u'trick' u'trio' u'troop'\n",
      " u'victim' u'villag' u'virgin' u'vision' u'wa' u'war' u'weapon' u'wed'\n",
      " u'win' u'women' u'woo' u'wound' u'young']\n",
      "grid search best score =  0.655833063577\n",
      "grid search best param =  {'selector__percentile': 21}\n",
      "score on training data =  0.706486101212\n"
     ]
    }
   ],
   "source": [
    "from nltk.stem.porter import *\n",
    "from nltk import tokenize\n",
    "stemmer = PorterStemmer()\n",
    "tokenizer = tokenize.WordPunctTokenizer()\n",
    "def stemCustom(X):\n",
    "    splitStemJoin = lambda string: ' '.join([stemmer.stem(word) for word in tokenizer.tokenize(string)])\n",
    "    return X.apply(splitStemJoin)\n",
    "\n",
    "stemTransform = FunctionTransformer(stemCustom, validate=False)\n",
    "\n",
    "X_wrangle_3 = stemTransform.fit_transform(X_wrangle_2)\n",
    "mostImportantFeatrures(X_wrangle_3, genreDF.Comedy)"
   ]
  },
  {
   "cell_type": "markdown",
   "metadata": {},
   "source": [
    "Again we appear to have reduced overfitting but without improving the actual fit. Let's try looking at a different genre."
   ]
  },
  {
   "cell_type": "code",
   "execution_count": null,
   "metadata": {
    "collapsed": false
   },
   "outputs": [
    {
     "name": "stdout",
     "output_type": "stream",
     "text": [
      "[u'02' u'09' u'1976' u'1980' u'1990' u'1995' u'1996' u'1999' u'2000'\n",
      " u'2001' u'2002' u'2003' u'2004' u'2006' u'2007' u'2008' u'2009' u'2010'\n",
      " u'2011' u'3D' u'41' u'accessd' u'activist' u'agre' u'al' u'album' u'alleg'\n",
      " u'archiv' u'arriv' u'art' u'ask' u'attack' u'attempt' u'away' u'bailout'\n",
      " u'becom' u'befor' u'began' u'billion' u'bodybuild' u'booksel' u'break'\n",
      " u'camera' u'car' u'censorship' u'chase' u'chronicl' u'cite' u'clip' u'com'\n",
      " u'come' u'commentari' u'contemporari' u'context' u'contribut'\n",
      " u'controversi' u'coral' u'cove' u'cub' u'cultur' u'daughter' u'dead'\n",
      " u'decad' u'decid' u'deficit' u'democraci' u'democrat' u'demonstr'\n",
      " u'deregul' u'describ' u'die' u'director' u'discov' u'discuss' u'document'\n",
      " u'documentari' u'doe' u'dolphin' u'econom' u'economist' u'ere' u'escap'\n",
      " u'eugen' u'evolut' u'examin' u'explor' u'fall' u'father' u'featur' u'film'\n",
      " u'filmmak' u'flamingo' u'focu' u'focus' u'footag' u'friend' u'genocid'\n",
      " u'genr' u'girl' u'global' u'goe' u'gun' u'ha' u'head' u'help' u'hi'\n",
      " u'hide' u'highlight' u'histor' u'histori' u'home' u'hous' u'html' u'http'\n",
      " u'humpback' u'husband' u'hydrogen' u'includ' u'indi' u'industri'\n",
      " u'interview' u'interviewe' u'issu' u'just' u'kill' u'know' u'largest'\n",
      " u'learn' u'leav' u'liftoff' u'love' u'mainstream' u'make' u'man' u'manag'\n",
      " u'market' u'marri' u'media' u'meet' u'midwif' u'montag' u'movement'\n",
      " u'murder' u'nation' u'night' u'offic' u'onli' u'order' u'org' u'pioneer'\n",
      " u'plan' u'polar' u'polic' u'polici' u'polio' u'polit' u'politician'\n",
      " u'pride' u'realiz' u'recycl' u'ref' u'retrospect' u'return' u'reveal'\n",
      " u'ringsid' u'room' u'run' u'save' u'send' u'shoot' u'shown' u'solar'\n",
      " u'son' u'soon' u'stop' u'tell' u'tenac' u'titl' u'today' u'tour'\n",
      " u'tourism' u'town' u'tradit' u'transit' u'tri' u'trillion' u'turn'\n",
      " u'union' u'unpreced' u'url' u'variou' u'verite' u'violenc' u'walru'\n",
      " u'want' u'web' u'western' u'whale' u'wife' u'www']\n",
      "grid search best score =  0.382406222288\n",
      "grid search best param =  {'selector__percentile': 22}\n",
      "score on training data =  0.503945291952\n"
     ]
    }
   ],
   "source": [
    "mostImportantFeatrures(X_wrangle_3, genreDF.Documentary)"
   ]
  },
  {
   "cell_type": "markdown",
   "metadata": {},
   "source": [
    "Here the fit is very much worse than for comedy. Also notice notice the presence of numbers which could be a source of error so let's try removing them."
   ]
  },
  {
   "cell_type": "code",
   "execution_count": null,
   "metadata": {
    "collapsed": true
   },
   "outputs": [],
   "source": [
    "def noDigits(X):\n",
    "    return X.str.replace(r'\\d+\\,?\\.?\\d?', \"\")\n",
    "\n",
    "noDigitsTransform = FunctionTransformer(noDigits, validate=False)\n",
    "\n",
    "X_wrangle_4 = noDigitsTransform.fit_transform(X_wrangle_3)"
   ]
  },
  {
   "cell_type": "code",
   "execution_count": null,
   "metadata": {
    "collapsed": false
   },
   "outputs": [
    {
     "name": "stdout",
     "output_type": "stream",
     "text": [
      "[u'accessd' u'activist' u'agre' u'al' u'album' u'alleg' u'anoth' u'anti'\n",
      " u'apart' u'archiv' u'arriv' u'art' u'ask' u'attack' u'attempt' u'away'\n",
      " u'bailout' u'becom' u'befor' u'began' u'billion' u'bodybuild' u'booksel'\n",
      " u'boy' u'break' u'calf' u'camera' u'car' u'caus' u'censorship' u'chase'\n",
      " u'chronicl' u'cite' u'clip' u'coalit' u'com' u'come' u'commentari'\n",
      " u'contemporari' u'context' u'contribut' u'controversi' u'coral' u'cove'\n",
      " u'cub' u'cultur' u'daughter' u'dead' u'decad' u'decid' u'deficit'\n",
      " u'democraci' u'democrat' u'demonstr' u'depict' u'deregul' u'describ'\n",
      " u'die' u'director' u'discov' u'discuss' u'document' u'documentari' u'doe'\n",
      " u'dolphin' u'econom' u'economist' u'ere' u'escap' u'eugen' u'evolut'\n",
      " u'examin' u'excerpt' u'explor' u'fall' u'father' u'featur' u'fight'\n",
      " u'film' u'filmmak' u'flamingo' u'focu' u'focus' u'footag' u'friend'\n",
      " u'genocid' u'genr' u'girl' u'global' u'goe' u'gun' u'ha' u'head' u'health'\n",
      " u'help' u'hi' u'hide' u'highlight' u'histor' u'histori' u'home' u'hous'\n",
      " u'hr' u'html' u'http' u'humpback' u'husband' u'hydrogen' u'includ' u'indi'\n",
      " u'industri' u'interspers' u'interview' u'interviewe' u'interweav' u'issu'\n",
      " u'job' u'just' u'kill' u'know' u'largest' u'learn' u'leav' u'liftoff'\n",
      " u'love' u'mainstream' u'make' u'man' u'manag' u'market' u'marri' u'media'\n",
      " u'meet' u'midwif' u'montag' u'mother' u'movement' u'murder' u'nation'\n",
      " u'new' u'night' u'offic' u'onli' u'order' u'org' u'pioneer' u'plan'\n",
      " u'polar' u'polic' u'polici' u'polio' u'polit' u'politician' u'pride'\n",
      " u'promin' u'realiz' u'recycl' u'ref' u'rescu' u'retrospect' u'return'\n",
      " u'reveal' u'ringsid' u'room' u'root' u'run' u'save' u'send' u'shoot'\n",
      " u'shown' u'solar' u'son' u'soon' u'stay' u'stop' u'tell' u'tenac' u'titl'\n",
      " u'today' u'tour' u'tourism' u'town' u'tradit' u'transit' u'tri'\n",
      " u'trillion' u'turn' u'union' u'unpreced' u'url' u'variou' u'verite'\n",
      " u'violenc' u'walru' u'want' u'web' u'western' u'whale' u'wife' u'www']\n",
      "grid search best score =  0.370393361981\n",
      "grid search best param =  {'selector__percentile': 12}\n",
      "score on training data =  0.422471910112\n"
     ]
    }
   ],
   "source": [
    "mostImportantFeatrures(X_wrangle_4, genreDF.Documentary)"
   ]
  },
  {
   "cell_type": "markdown",
   "metadata": {},
   "source": [
    "The fit is the same and, although there is a slightly greater ammount of overfitting, it makes sense to remove digits from the data set. Finally we need to transofmr the vectorised synopsis data into an numpy array and then bring all the steps together into a preprocessing pipeline."
   ]
  },
  {
   "cell_type": "code",
   "execution_count": null,
   "metadata": {
    "collapsed": false
   },
   "outputs": [],
   "source": [
    "def transformToNp(X):\n",
    "    return X.as_matrix().flatten()\n",
    "\n",
    "transformToNpTransform = FunctionTransformer(transformToNp, validate=False)\n",
    "\n",
    "X_wrangled = transformToNpTransform.fit_transform(X_wrangle_4)\n",
    "\n",
    "preprocessing = Pipeline([(\"deleteTags\", deleteSynopsisTagsTransformer), \n",
    "                          (\"deleteCapitalizedWords\", noCapsTransform), \n",
    "                          (\"porterStemmer\", stemTransform),\n",
    "                          (\"deleteDigits\", noDigitsTransform),\n",
    "                          (\"toNumpy\", transformToNpTransform)])\n",
    "\n"
   ]
  },
  {
   "cell_type": "markdown",
   "metadata": {},
   "source": [
    "## 3. Dummy model and a reasonable baseline.\n",
    "\n",
    "Before writing the dummy model I said I would first generalize the f1 score for multilabel classification. We can calculate the f1 score for each movie by comparing the predicted and actual genres (and ignoring labels that are absent from both). I then average the score over all movies."
   ]
  },
  {
   "cell_type": "code",
   "execution_count": null,
   "metadata": {
    "collapsed": false
   },
   "outputs": [],
   "source": [
    "def averageF1Micro(y, yPredicted, **kwargs):\n",
    "    #if a row in y has no labels assume that its genres were not in the training set and give 0\n",
    "    return np.mean([f1_score(sub_y, sub_ypredicted, labels=[1], average='micro') \n",
    "                    if sum(sub_ypredicted)!=0 else 0 \n",
    "                    for sub_y, sub_ypredicted in zip(y,yPredicted) if sum(sub_y)!=0] )\n",
    "\n",
    "averageF1MicroScorer = make_scorer(averageF1Micro, greater_is_better=True)"
   ]
  },
  {
   "cell_type": "markdown",
   "metadata": {},
   "source": [
    "An appropriate dummy model for a multilabel classification might be to predict the most frequently occuring labels in the data. So let's find the most frequent"
   ]
  },
  {
   "cell_type": "code",
   "execution_count": null,
   "metadata": {
    "collapsed": true
   },
   "outputs": [],
   "source": [
    "def nMostFrequent(n):\n",
    "    assert(n>0)\n",
    "    frequencies=(genreDF.sum()/genreDF.count())\n",
    "    nMostFrequent = (frequencies.sort_values()[-n:]).index.tolist()\n",
    "    return nMostFrequent"
   ]
  },
  {
   "cell_type": "markdown",
   "metadata": {},
   "source": [
    "The five most frequent labels are"
   ]
  },
  {
   "cell_type": "code",
   "execution_count": null,
   "metadata": {
    "collapsed": false
   },
   "outputs": [
    {
     "data": {
      "text/plain": [
       "[u'Crime', u'Romance', u'Thriller', u'Comedy', u'Drama']"
      ]
     },
     "execution_count": 39,
     "metadata": {},
     "output_type": "execute_result"
    }
   ],
   "source": [
    "nMostFrequent(5)"
   ]
  },
  {
   "cell_type": "markdown",
   "metadata": {},
   "source": [
    "While we can find the most frequent labels, it is not clear how many give the best fit. So our dummy model will predict the n most frquent labels for each movie and, using cross validation, we'll find the number that gives the best score."
   ]
  },
  {
   "cell_type": "code",
   "execution_count": null,
   "metadata": {
    "collapsed": true
   },
   "outputs": [],
   "source": [
    "class nMostFrequentClassifier(BaseEstimator, ClassifierMixin):\n",
    "    def __init__(self, n=1):\n",
    "        self.n = n\n",
    "\n",
    "    def fit(self, X, y):\n",
    "        self.occurences_ = np.sum(y, axis=0)\n",
    "        return self\n",
    "\n",
    "    def predict(self, X):\n",
    "        cutOffVal = np.sort(self.occurences_, axis=0)[-self.n]\n",
    "        if (self.occurences_==cutOffVal).sum()==1:\n",
    "            self.nMostFrequent_ = self.occurences_>=cutOffVal\n",
    "        else:\n",
    "            additionalToSelect = self.n - (self.occurences_>cutOffVal).sum()\n",
    "            indexesOfAdditionals = np.argwhere(np.array([0,1,1,1])==1)[:additionalToSelect]\n",
    "            additionals = np.array([[1 if i in indexesOfAdditionals else 0 for i in range(len(self.occurences_))]])\n",
    "            self.nMostFrequent_ = additionals + self.occurences_>cutOffVal\n",
    "        numPredicted = len(X)\n",
    "        return np.array([self.nMostFrequent_.tolist()]*numPredicted)"
   ]
  },
  {
   "cell_type": "markdown",
   "metadata": {},
   "source": [
    "Let's try predicting up to the 10 most frequent labels and plotting the results:"
   ]
  },
  {
   "cell_type": "code",
   "execution_count": null,
   "metadata": {
    "collapsed": false
   },
   "outputs": [
    {
     "name": "stdout",
     "output_type": "stream",
     "text": [
      "Fitting 3 folds for each of 10 candidates, totalling 30 fits\n",
      "    best score 0.359050338086\n",
      "    best param {'nMostFrequent__n': 2}\n"
     ]
    },
    {
     "name": "stderr",
     "output_type": "stream",
     "text": [
      "[Parallel(n_jobs=-1)]: Done  30 out of  30 | elapsed:  3.1min finished\n"
     ]
    }
   ],
   "source": [
    "pipeDummy = Pipeline([(\"nMostFrequent\", nMostFrequentClassifier())])\n",
    "\n",
    "dummCV = GridSearchCV(pipeDummy, param_grid={\"nMostFrequent__n\":[1,2,3,4,5,6,7,8,9,10]}, \n",
    "                          scoring=averageF1MicroScorer, verbose=1, \n",
    "                          refit=False, n_jobs=-1, cv=3)\n",
    "dummCV.fit(X_wrangled, y_train)\n",
    "print \"    best score\", dummCV.best_score_\n",
    "print \"    best param\", dummCV.best_params_"
   ]
  },
  {
   "cell_type": "code",
   "execution_count": null,
   "metadata": {
    "collapsed": false
   },
   "outputs": [
    {
     "data": {
      "text/plain": [
       "(0.24, 0.38)"
      ]
     },
     "execution_count": 42,
     "metadata": {},
     "output_type": "execute_result"
    },
    {
     "data": {
      "image/png": "[encoded data removed]",
      "text/plain": [
       "<matplotlib.figure.Figure at 0x119da9c50>"
      ]
     },
     "metadata": {},
     "output_type": "display_data"
    }
   ],
   "source": [
    "plt.plot(range(1, 11), dummCV.cv_results_[\"mean_test_score\"])\n",
    "plt.ylabel(\"test score\")\n",
    "plt.xlabel(\"n most frequent predictors\")\n",
    "plt.xlim([0.5, 10.5])\n",
    "plt.ylim([0.24, 0.38])"
   ]
  },
  {
   "cell_type": "markdown",
   "metadata": {},
   "source": [
    "We see our dummy model has a best score of 0.35 which occurs when it predicts the 2 most frquent genres for every movie. Any other model has to beat this to be of value."
   ]
  },
  {
   "cell_type": "markdown",
   "metadata": {},
   "source": [
    "# 4. Multilabel classification classes \n",
    "\n",
    "Most machine learning algorithms do not natively support multiple labels. I need to write a number of classes that will help us adapt these standard algorithms for our purposes. \n",
    "\n",
    "Since I will be applying the machine learning algorithms to each label, some of which may appear only a small number of times in the data, I need a class that will not attempt to fit an impossibly small data set and instead will just return zero. This is the `MinSampleClassifier` and it takes an algorithm, a cutoff below which models will not be fitted and a description of wither the underlying algorithm has a decision function or a predict probability method. This last arguement will used later."
   ]
  },
  {
   "cell_type": "code",
   "execution_count": null,
   "metadata": {
    "collapsed": false
   },
   "outputs": [],
   "source": [
    "class MinSampleClassifier(BaseEstimator, MetaEstimatorMixin):\n",
    "    def __init__(self, clf=MultinomialNB(), limit=10, decisionFunction=False):\n",
    "        self.clf = clf\n",
    "        self.limit = limit\n",
    "        self.decisionFunction = decisionFunction\n",
    "        \n",
    "    def fit(self, X, y):\n",
    "        if sum(y)<self.limit:\n",
    "            self.dataTooSmall_ = True\n",
    "        else:\n",
    "            self.dataTooSmall_ = False\n",
    "            self.clf.fit(X,y)\n",
    "        return self\n",
    "    \n",
    "    def predict(self, X):\n",
    "        if self.dataTooSmall_:\n",
    "            return np.array([np.array([0.])]*X.shape[0])\n",
    "        else:\n",
    "            return self.clf.predict(X)\n",
    "        \n",
    "    def decision_function(self, X):\n",
    "        if self.dataTooSmall_:\n",
    "            return np.array([np.array([0.])]*X.shape[0])\n",
    "        elif self.decisionFunction:\n",
    "            return self.clf.decision_function(X)\n",
    "        else:\n",
    "            return self.clf.predict_proba(X)[:,1]"
   ]
  },
  {
   "cell_type": "markdown",
   "metadata": {},
   "source": [
    "Models fall in to two categories. Those, like naive bayes, which can predict the proability that a given data point has a specific label and those that use a decision function. In both cases there is a cutoff value below which a data point is deemed by the model not to have that label, for approaches that predict a probability that value is 0.5 and for models that have a decision function the value is 0 (which is the distance from some decision boundary). However thse values may not lead to the best f1 score and I would like to be able to tune the threshold to get the best fit. \n",
    "\n",
    "I will create a two step process. First I will take a machine learning algorithm and use it to transform the data into a measure of fit, either a probability or a decision function score."
   ]
  },
  {
   "cell_type": "code",
   "execution_count": null,
   "metadata": {
    "collapsed": true
   },
   "outputs": [],
   "source": [
    "class PredictionTransformer(BaseEstimator, TransformerMixin, MetaEstimatorMixin):\n",
    "    def __init__(self, clf=MultinomialNB(), decisionFunction=True):\n",
    "        \"\"\"Replaces all features with `clf.predict_proba(X)`\"\"\"\n",
    "        self.clf = clf\n",
    "        self.decisionFunction=decisionFunction\n",
    "        \n",
    "    def fit(self, X, y):\n",
    "        self.clf.fit(X, y)\n",
    "        return self\n",
    "\n",
    "    def transform(self, X):\n",
    "        if self.decisionFunction:\n",
    "            return self.clf.decision_function(X)\n",
    "        else:\n",
    "            X_array = np.asarray(X)\n",
    "            probs = self.clf.predict_proba(X)\n",
    "            return [val[:,1] if val.shape[1]==2 else [0]*val.shape[0] for val in probs ]\n",
    "\n",
    "      "
   ]
  },
  {
   "cell_type": "markdown",
   "metadata": {},
   "source": [
    "Next I will create a class that allows the value of the threshold to be raised or lowered. However this may lead to situations where no labels are predicted. In this case I want to predict the n labels with the highest scores or probabilities, even if those are quite low. An alternative method would be to predict the n most frequent labels if none have a sufficiently high probability. I found that this alternative lead to inferior results."
   ]
  },
  {
   "cell_type": "code",
   "execution_count": null,
   "metadata": {
    "collapsed": false
   },
   "outputs": [],
   "source": [
    "def thresholdCalc(threshold, minCount, x):\n",
    "        #predict values above a threshold or else the most confident minCount\n",
    "    initialThreshold = x>=threshold\n",
    "    if initialThreshold.sum() >=minCount:\n",
    "        return initialThreshold\n",
    "    else:\n",
    "        indexes = np.argpartition(x, -minCount)[-minCount:]\n",
    "        lowerThreshold = x[indexes].min()\n",
    "        if lowerThreshold>0 and minCount<len(x):\n",
    "            return x>=lowerThreshold\n",
    "        else:\n",
    "            return x>0\n",
    "        \n",
    "class ThresholdClassifier(BaseEstimator, ClassifierMixin):\n",
    "    def __init__(self, threshold=0.5, minCount = 2, transpose=True):\n",
    "        \"\"\"Classify samples based on whether they are above of below `threshold`\"\"\"\n",
    "        self.threshold = threshold\n",
    "        self.minCount = minCount\n",
    "        self.transpose=transpose\n",
    "\n",
    "    def fit(self, X, y):\n",
    "        return self\n",
    "\n",
    "    def predict(self, X):\n",
    "        X_array = np.asarray(X)\n",
    "        if self.transpose:\n",
    "            returnVal = np.array([thresholdCalc(self.threshold, self.minCount, sub) for sub in X_array]).T\n",
    "        else:\n",
    "            returnVal = np.array([thresholdCalc(self.threshold, self.minCount, sub) for sub in X_array])\n",
    "        return returnVal\n",
    "    \n",
    "    #This method is required by the OneVsRestClassifier \n",
    "    def predict_proba(self, X):\n",
    "        return X"
   ]
  },
  {
   "cell_type": "markdown",
   "metadata": {},
   "source": [
    "## 5. Defining and tuning models\n",
    "\n",
    "All of the models we are going to try will have a number of parameters that must be tuned using cross validation. Rather than repeat this boiler plate code for each model I will create a simple function that searches the available parameter space for the best values printing out the best results. "
   ]
  },
  {
   "cell_type": "code",
   "execution_count": null,
   "metadata": {
    "collapsed": true
   },
   "outputs": [],
   "source": [
    "def report(results, n_top=3):\n",
    "    for i in range(1, n_top + 1):\n",
    "        candidates = np.flatnonzero(results['rank_test_score'] == i)\n",
    "        for candidate in candidates:\n",
    "            print(\"Model with rank: {0}\".format(i))\n",
    "            print(\"Mean validation score: {0:.3f} (std: {1:.3f})\".format(\n",
    "                  results['mean_test_score'][candidate],\n",
    "                  results['std_test_score'][candidate]))\n",
    "            print(\"Parameters: {0}\".format(results['params'][candidate]))\n",
    "            print(\"\")\n",
    "\n",
    "def crossValidateRandom(X, Y, model, params=None, n_iter=100):\n",
    "    rsCV = RandomizedSearchCV(model, param_distributions=params, n_iter=n_iter,\n",
    "                            scoring=averageF1MicroScorer, verbose=1, \n",
    "                            refit=False, n_jobs=-1, \n",
    "                            cv=3\n",
    "                           )\n",
    "    fittedModel = rsCV.fit(X, Y)\n",
    "    report(rsCV.cv_results_)\n",
    "    return rsCV.best_params_"
   ]
  },
  {
   "cell_type": "markdown",
   "metadata": {},
   "source": [
    "For each model I will use the same function to vectorize the text data, called CountVectorizer. Note that an alternative vectorizer exists, tfIdfVectorizer but with it I have found that the results are not as good."
   ]
  },
  {
   "cell_type": "code",
   "execution_count": null,
   "metadata": {
    "collapsed": true
   },
   "outputs": [],
   "source": [
    "count = CountVectorizer(lowercase=False, strip_accents='unicode', stop_words='english')"
   ]
  },
  {
   "cell_type": "markdown",
   "metadata": {},
   "source": [
    "# Naive Bayes\n",
    "\n",
    "This model is a staple of any attempt at text analysis. For this model I will create a naive bayes model for each genre and then use the threshold predictor to find the most likely labels.\n",
    "\n",
    "Some of the parameters I want to look at should be sampled uniformly, such as the threshold and the percentage of features needed to best predict each label. Other parameters need to be sampled unifromly in log space, such as $\\alpha$ which smoothes the likelihood function of each feature. For this I create a quick custom distribution"
   ]
  },
  {
   "cell_type": "code",
   "execution_count": null,
   "metadata": {
    "collapsed": true
   },
   "outputs": [],
   "source": [
    "class logUniform():\n",
    "    def __init__(self, low = -9, high = 0):\n",
    "        self.rng = sp_uniform(low, high-low)#This distribution is constant between `loc` and ``loc + scale``.\n",
    "        \n",
    "    def rvs(self, **kwargs):\n",
    "        return 10**(self.rng.rvs(**kwargs))"
   ]
  },
  {
   "cell_type": "markdown",
   "metadata": {},
   "source": [
    "The model first vectorizes the data. Then for each label it selects the most important features and then applies Naive Bayes. Thresholding is then used to predict the best labels."
   ]
  },
  {
   "cell_type": "code",
   "execution_count": null,
   "metadata": {
    "collapsed": false
   },
   "outputs": [
    {
     "name": "stdout",
     "output_type": "stream",
     "text": [
      "Fitting 3 folds for each of 120 candidates, totalling 360 fits\n"
     ]
    },
    {
     "name": "stderr",
     "output_type": "stream",
     "text": [
      "[Parallel(n_jobs=-1)]: Done  42 tasks      | elapsed: 10.6min\n",
      "[Parallel(n_jobs=-1)]: Done 192 tasks      | elapsed: 46.8min\n",
      "[Parallel(n_jobs=-1)]: Done 360 out of 360 | elapsed: 87.6min finished\n"
     ]
    },
    {
     "name": "stdout",
     "output_type": "stream",
     "text": [
      "Model with rank: 1\n",
      "Mean validation score: 0.534 (std: 0.000)\n",
      "Parameters: {'count__max_df': 1.2160347144776193, 'count__min_df': 2, 'threshold__threshold': 0.36453455485863784, 'model__clf__estimator__clf__selector__percentile': 77, 'model__clf__estimator__clf__prediction__fit_prior': True, 'model__clf__estimator__clf__prediction__alpha': 0.023322323260927785, 'threshold__minCount': 2}\n",
      "\n",
      "Model with rank: 2\n",
      "Mean validation score: 0.531 (std: 0.001)\n",
      "Parameters: {'count__max_df': 0.910852384228504, 'count__min_df': 3, 'threshold__threshold': 0.39987217637769384, 'model__clf__estimator__clf__selector__percentile': 81, 'model__clf__estimator__clf__prediction__fit_prior': True, 'model__clf__estimator__clf__prediction__alpha': 0.012923051057213895, 'threshold__minCount': 3}\n",
      "\n",
      "Model with rank: 3\n",
      "Mean validation score: 0.531 (std: 0.001)\n",
      "Parameters: {'count__max_df': 1.0346335818356065, 'count__min_df': 3, 'threshold__threshold': 0.3518981357946287, 'model__clf__estimator__clf__selector__percentile': 67, 'model__clf__estimator__clf__prediction__fit_prior': True, 'model__clf__estimator__clf__prediction__alpha': 0.0017480473644420462, 'threshold__minCount': 2}\n",
      "\n"
     ]
    },
    {
     "data": {
      "text/plain": [
       "Pipeline(steps=[('count', CountVectorizer(analyzer=u'word', binary=False, decode_error=u'strict',\n",
       "        dtype=<type 'numpy.int64'>, encoding=u'utf-8', input=u'content',\n",
       "        lowercase=False, max_df=1.21603471448, max_features=None, min_df=2,\n",
       "        ngram_range=(1, 1), preprocessor=None, stop_words='eng...n=True)), ('threshold', ThresholdClassifier(minCount=2, threshold=0.364534554859, transpose=False))])"
      ]
     },
     "execution_count": 49,
     "metadata": {},
     "output_type": "execute_result"
    }
   ],
   "source": [
    "selectThenNBPipe = Pipeline([(\"selector\", SelectPercentile(chi2)),\n",
    "                             (\"prediction\",MultinomialNB())])\n",
    "\n",
    "multipleNB = OneVsRestClassifier(MinSampleClassifier(selectThenNBPipe, decisionFunction=False))\n",
    "\n",
    "naiveBayes = Pipeline([(\"count\",count), \n",
    "                       (\"model\", PredictionTransformer(clf=multipleNB)),\n",
    "                       (\"threshold\", ThresholdClassifier(transpose=False))])\n",
    "\n",
    "NBparams = {\"count__max_df\":sp_uniform(0.8, 1.0),\n",
    "            \"count__min_df\":sp_randint(1,4),\n",
    "            \"model__clf__estimator__clf__prediction__alpha\":logUniform(low=-12, high=0),\n",
    "            \"model__clf__estimator__clf__prediction__fit_prior\":[True, False],\n",
    "            \"model__clf__estimator__clf__selector__percentile\":sp_randint(1, 100),\n",
    "            \"threshold__threshold\":sp_uniform(0, 0.5),\n",
    "            \"threshold__minCount\":sp_randint(2, 6)\n",
    "           }\n",
    "\n",
    "NBModelBestParams = crossValidateRandom(X_wrangled, y_train, naiveBayes, params=NBparams, n_iter=120)\n",
    "naiveBayes.set_params(**NBModelBestParams)"
   ]
  },
  {
   "cell_type": "markdown",
   "metadata": {},
   "source": [
    "We see a best cross validation score of 0.534 for the naive bayes model. This is a good result but we should still experiment with different models. "
   ]
  },
  {
   "cell_type": "markdown",
   "metadata": {},
   "source": [
    "# Random Forest\n",
    "\n",
    "This model is easier to apply than naive bayes since it natively copes with multiple labels. However I still need to apply thresholding. This model was very slow to fit in the presence of so 1000's of features. I found the best results came not when I found the best subset of features but instead by performing Singular Value Decomposition on the features, reducing the number of dimensions down to 100. "
   ]
  },
  {
   "cell_type": "code",
   "execution_count": null,
   "metadata": {
    "collapsed": false
   },
   "outputs": [
    {
     "name": "stdout",
     "output_type": "stream",
     "text": [
      "Fitting 3 folds for each of 120 candidates, totalling 360 fits\n"
     ]
    },
    {
     "name": "stderr",
     "output_type": "stream",
     "text": [
      "[Parallel(n_jobs=-1)]: Done  42 tasks      | elapsed: 14.9min\n",
      "[Parallel(n_jobs=-1)]: Done 192 tasks      | elapsed: 65.9min\n",
      "[Parallel(n_jobs=-1)]: Done 360 out of 360 | elapsed: 122.4min finished\n"
     ]
    },
    {
     "name": "stdout",
     "output_type": "stream",
     "text": [
      "Model with rank: 1\n",
      "Mean validation score: 0.459 (std: 0.005)\n",
      "Parameters: {'count__max_df': 1.5133164917759248, 'count__min_df': 3, 'model__clf__min_samples_split': 2, 'prob__minCount': 3, 'model__clf__max_depth': 17, 'model__clf__n_estimators': 26, 'prob__threshold': 0.2361509105916879}\n",
      "\n",
      "Model with rank: 2\n",
      "Mean validation score: 0.459 (std: 0.002)\n",
      "Parameters: {'count__max_df': 1.6391434331532166, 'count__min_df': 1, 'model__clf__min_samples_split': 5, 'prob__minCount': 5, 'model__clf__max_depth': 25, 'model__clf__n_estimators': 24, 'prob__threshold': 0.22991023050066983}\n",
      "\n",
      "Model with rank: 3\n",
      "Mean validation score: 0.458 (std: 0.003)\n",
      "Parameters: {'count__max_df': 0.9617637557269056, 'count__min_df': 1, 'model__clf__min_samples_split': 3, 'prob__minCount': 4, 'model__clf__max_depth': 9, 'model__clf__n_estimators': 21, 'prob__threshold': 0.18574521561844803}\n",
      "\n"
     ]
    },
    {
     "data": {
      "text/plain": [
       "Pipeline(steps=[('count', CountVectorizer(analyzer=u'word', binary=False, decode_error=u'strict',\n",
       "        dtype=<type 'numpy.int64'>, encoding=u'utf-8', input=u'content',\n",
       "        lowercase=False, max_df=1.51331649178, max_features=None, min_df=3,\n",
       "        ngram_range=(1, 1), preprocessor=None, stop_words='eng...nction=False)), ('prob', ThresholdClassifier(minCount=3, threshold=0.236150910592, transpose=True))])"
      ]
     },
     "execution_count": 50,
     "metadata": {},
     "output_type": "execute_result"
    }
   ],
   "source": [
    "randomForest = Pipeline([(\"count\", count),\n",
    "                         (\"TruncatedSVD\", TruncatedSVD(n_components=100)),\n",
    "                         (\"model\", PredictionTransformer(clf=RandomForestClassifier(), decisionFunction=False)), \n",
    "                         (\"prob\", ThresholdClassifier())\n",
    "                        ])\n",
    "\n",
    "multiRFParams={\n",
    "               \"model__clf__n_estimators\":[15, 20, 25], \n",
    "               \"model__clf__max_depth\":[10, 20, 25], \n",
    "               \"model__clf__min_samples_split\":[3,5,7],\n",
    "               \"prob__threshold\":[0.4, 0.5],\n",
    "               \"prob__minCount\":[2,3,4]\n",
    "              }\n",
    "\n",
    "randomRFParams={\n",
    "                \"count__max_df\":sp_uniform(0.8, 1.0),\n",
    "                \"count__min_df\":sp_randint(1,4),\n",
    "                \"model__clf__n_estimators\":sp_randint(10, 30),\n",
    "                \"model__clf__max_depth\":sp_randint(5, 50),\n",
    "                \"model__clf__min_samples_split\":sp_randint(2, 8),\n",
    "                \"prob__threshold\":sp_uniform(0, 0.5),\n",
    "                \"prob__minCount\":sp_randint(2, 6)\n",
    "               }\n",
    "\n",
    "randomForestBestParams = crossValidateRandom(X_wrangled, y_train, randomForest, \n",
    "                                             params=randomRFParams, n_iter=120)\n",
    "randomForest.set_params(**randomForestBestParams)"
   ]
  },
  {
   "cell_type": "markdown",
   "metadata": {},
   "source": [
    "A score of 0.459 is ok but not as good as I would have hoped given the result we saw from naive bayes. It may also be a good idea to increase the value of n_estimators the next time given that its value is quite large in all three of the best models."
   ]
  },
  {
   "cell_type": "markdown",
   "metadata": {},
   "source": [
    "# Support Vector Machines"
   ]
  },
  {
   "cell_type": "markdown",
   "metadata": {},
   "source": [
    "SVM models are increadibly powerful but can be very slow to fit and predict in the presence of a large number of features. This is compounded by needing to fit a sperate model for each of 40 labels. For this reason I have chosen the simple linear SVC model; more sophisticated models simply were too slow to use. The model is applied here in the same way as the naive bayes model, with feature selection and prediction for each label and thresholding to get the best results."
   ]
  },
  {
   "cell_type": "code",
   "execution_count": null,
   "metadata": {
    "collapsed": false
   },
   "outputs": [
    {
     "name": "stdout",
     "output_type": "stream",
     "text": [
      "Fitting 3 folds for each of 120 candidates, totalling 360 fits\n"
     ]
    },
    {
     "name": "stderr",
     "output_type": "stream",
     "text": [
      "[Parallel(n_jobs=-1)]: Done  42 tasks      | elapsed: 10.3min\n",
      "[Parallel(n_jobs=-1)]: Done 192 tasks      | elapsed: 50.5min\n",
      "[Parallel(n_jobs=-1)]: Done 360 out of 360 | elapsed: 92.8min finished\n"
     ]
    },
    {
     "name": "stdout",
     "output_type": "stream",
     "text": [
      "Model with rank: 1\n",
      "Mean validation score: 0.513 (std: 0.003)\n",
      "Parameters: {'count__max_df': 1.2707596485742632, 'count__min_df': 1, 'threshold__threshold': 2.2502919995225112, 'model__clf__estimator__clf__selector__percentile': 86, 'model__clf__estimator__clf__prediction__class_weight': 'balanced', 'model__clf__estimator__clf__prediction__C': 0.004397061368268012, 'model__clf__estimator__clf__prediction__loss': 'squared_hinge', 'threshold__minCount': 5}\n",
      "\n",
      "Model with rank: 2\n",
      "Mean validation score: 0.512 (std: 0.002)\n",
      "Parameters: {'count__max_df': 1.3870216390065901, 'count__min_df': 3, 'threshold__threshold': 2.8855670265745874, 'model__clf__estimator__clf__selector__percentile': 70, 'model__clf__estimator__clf__prediction__class_weight': 'balanced', 'model__clf__estimator__clf__prediction__C': 0.0014959445744170343, 'model__clf__estimator__clf__prediction__loss': 'squared_hinge', 'threshold__minCount': 4}\n",
      "\n",
      "Model with rank: 3\n",
      "Mean validation score: 0.508 (std: 0.003)\n",
      "Parameters: {'count__max_df': 1.0651703959142567, 'count__min_df': 2, 'threshold__threshold': 3.86052884200872, 'model__clf__estimator__clf__selector__percentile': 67, 'model__clf__estimator__clf__prediction__class_weight': 'balanced', 'model__clf__estimator__clf__prediction__C': 0.0016652991745999615, 'model__clf__estimator__clf__prediction__loss': 'squared_hinge', 'threshold__minCount': 3}\n",
      "\n"
     ]
    },
    {
     "data": {
      "text/plain": [
       "Pipeline(steps=[('count', CountVectorizer(analyzer=u'word', binary=False, decode_error=u'strict',\n",
       "        dtype=<type 'numpy.int64'>, encoding=u'utf-8', input=u'content',\n",
       "        lowercase=False, max_df=1.27075964857, max_features=None, min_df=1,\n",
       "        ngram_range=(1, 1), preprocessor=None, stop_words='eng...on=True)), ('threshold', ThresholdClassifier(minCount=5, threshold=2.25029199952, transpose=False))])"
      ]
     },
     "execution_count": 51,
     "metadata": {},
     "output_type": "execute_result"
    }
   ],
   "source": [
    "selectThenLinearSVCPipe = Pipeline([(\"selector\", SelectPercentile(chi2)),\n",
    "                                    (\"prediction\",LinearSVC())\n",
    "                                   ])\n",
    "\n",
    "multiplieSVC = OneVsRestClassifier(MinSampleClassifier(selectThenLinearSVCPipe, decisionFunction=True))\n",
    "\n",
    "linearSVC = Pipeline([(\"count\",count), \n",
    "                      (\"model\", PredictionTransformer(multiplieSVC)),\n",
    "                      (\"threshold\", ThresholdClassifier(transpose=False))\n",
    "                     ])\n",
    "\n",
    "randomSVCparams = {\n",
    "                   \"count__max_df\":sp_uniform(0.8, 1.0),\n",
    "                   \"count__min_df\":sp_randint(1,4),\n",
    "                   \"model__clf__estimator__clf__prediction__C\":logUniform(low=-9, high=0),\n",
    "                   \"model__clf__estimator__clf__prediction__loss\":[\"hinge\", \"squared_hinge\"],\n",
    "                   \"model__clf__estimator__clf__prediction__class_weight\":[\"balanced\", None],\n",
    "                   \"model__clf__estimator__clf__selector__percentile\":sp_randint(1, 100),\n",
    "                   \"threshold__threshold\":sp_uniform(0, 5),\n",
    "                   \"threshold__minCount\":sp_randint(2, 6)\n",
    "                  }\n",
    "\n",
    "linearSVCBestParams = crossValidateRandom(X_wrangled, y_train, linearSVC, \n",
    "                                          params=randomSVCparams, n_iter=120)\n",
    "    \n",
    "linearSVC.set_params(**linearSVCBestParams)"
   ]
  },
  {
   "cell_type": "markdown",
   "metadata": {},
   "source": [
    "Naive bayes remains the best result as the linear support vector machines best score is 0.513. Still this is a good score."
   ]
  },
  {
   "cell_type": "markdown",
   "metadata": {},
   "source": [
    "# Stochastic Gradient Descent Classifier\n",
    "\n",
    "Finally I use the very fast stochasitc gradient descent classifier. This model fits a linear decision function according to different loss mechanisms. For example using log loss is equivilent to fitting a logistic regression. Here I try several different loss functions."
   ]
  },
  {
   "cell_type": "code",
   "execution_count": null,
   "metadata": {
    "collapsed": false
   },
   "outputs": [
    {
     "name": "stdout",
     "output_type": "stream",
     "text": [
      "Fitting 3 folds for each of 120 candidates, totalling 360 fits\n"
     ]
    },
    {
     "name": "stderr",
     "output_type": "stream",
     "text": [
      "[Parallel(n_jobs=-1)]: Done  42 tasks      | elapsed: 11.5min\n",
      "[Parallel(n_jobs=-1)]: Done 192 tasks      | elapsed: 49.6min\n",
      "[Parallel(n_jobs=-1)]: Done 360 out of 360 | elapsed: 91.8min finished\n"
     ]
    },
    {
     "name": "stdout",
     "output_type": "stream",
     "text": [
      "Model with rank: 1\n",
      "Mean validation score: 0.459 (std: 0.006)\n",
      "Parameters: {'count__max_df': 1.7097236586694617, 'count__min_df': 3, 'threshold__threshold': 1.1756712811088494, 'model__clf__estimator__clf__selector__percentile': 38, 'model__clf__estimator__clf__prediction__penalty': 'none', 'model__clf__estimator__clf__prediction__alpha': 1.701538531567857e-06, 'model__clf__estimator__clf__prediction__loss': 'modified_huber', 'model__clf__estimator__clf__prediction__n_iter': 4, 'threshold__minCount': 3}\n",
      "\n",
      "Model with rank: 2\n",
      "Mean validation score: 0.454 (std: 0.004)\n",
      "Parameters: {'count__max_df': 1.4804515872937614, 'count__min_df': 3, 'threshold__threshold': 5.193965993540646, 'model__clf__estimator__clf__selector__percentile': 99, 'model__clf__estimator__clf__prediction__penalty': 'l2', 'model__clf__estimator__clf__prediction__alpha': 1.7985266629955536e-05, 'model__clf__estimator__clf__prediction__loss': 'modified_huber', 'model__clf__estimator__clf__prediction__n_iter': 15, 'threshold__minCount': 3}\n",
      "\n",
      "Model with rank: 3\n",
      "Mean validation score: 0.454 (std: 0.009)\n",
      "Parameters: {'count__max_df': 1.4496693645692624, 'count__min_df': 3, 'threshold__threshold': 5.395635440243735, 'model__clf__estimator__clf__selector__percentile': 96, 'model__clf__estimator__clf__prediction__penalty': 'elasticnet', 'model__clf__estimator__clf__prediction__alpha': 2.3981374726082388e-05, 'model__clf__estimator__clf__prediction__loss': 'log', 'model__clf__estimator__clf__prediction__n_iter': 15, 'threshold__minCount': 5}\n",
      "\n"
     ]
    },
    {
     "data": {
      "text/plain": [
       "Pipeline(steps=[('count', CountVectorizer(analyzer=u'word', binary=False, decode_error=u'strict',\n",
       "        dtype=<type 'numpy.int64'>, encoding=u'utf-8', input=u'content',\n",
       "        lowercase=False, max_df=1.70972365867, max_features=None, min_df=3,\n",
       "        ngram_range=(1, 1), preprocessor=None, stop_words='eng...on=True)), ('threshold', ThresholdClassifier(minCount=3, threshold=1.17567128111, transpose=False))])"
      ]
     },
     "execution_count": 52,
     "metadata": {},
     "output_type": "execute_result"
    }
   ],
   "source": [
    "selectThenSGDCPipe = Pipeline([(\"selector\", SelectPercentile(chi2)),\n",
    "                               (\"prediction\",SGDClassifier())\n",
    "                              ])\n",
    "\n",
    "multipleSGDC = OneVsRestClassifier(MinSampleClassifier(selectThenSGDCPipe, decisionFunction=True))\n",
    "\n",
    "SGDC = Pipeline([(\"count\",count), \n",
    "                 (\"model\", PredictionTransformer(multipleSGDC)),\n",
    "                 (\"threshold\", ThresholdClassifier(transpose=False))\n",
    "                ])\n",
    "\n",
    "SGDCparams = {\n",
    "              \"count__max_df\":sp_uniform(0.8, 1.0),\n",
    "              \"count__min_df\":sp_randint(1,4),\n",
    "              \"model__clf__estimator__clf__prediction__alpha\":logUniform(low=-9, high=0),\n",
    "              \"model__clf__estimator__clf__prediction__loss\":[\"log\", \"modified_huber\", \"perceptron\"],\n",
    "              \"model__clf__estimator__clf__prediction__penalty\":[\"none\", \"l2\", \"l1\", \"elasticnet\"],\n",
    "              \"model__clf__estimator__clf__prediction__n_iter\":sp_randint(2, 20),\n",
    "              \"model__clf__estimator__clf__selector__percentile\":sp_randint(1, 100),\n",
    "              \"threshold__threshold\":sp_uniform(1, 5),\n",
    "              \"threshold__minCount\":sp_randint(2, 6)\n",
    "             }\n",
    "\n",
    "SGDCBestParams = crossValidateRandom(X_wrangled, y_train, SGDC, \n",
    "                                         params=SGDCparams, n_iter=120)\n",
    "SGDC.set_params(**SGDCBestParams)"
   ]
  },
  {
   "cell_type": "markdown",
   "metadata": {},
   "source": [
    "The score for stochastic gradient decent is the same score as from random forest, 0.459.\n",
    "\n",
    "Some of the scores we have seen have been pretty good, especially compared to the dummy baseline model of 0.36."
   ]
  },
  {
   "cell_type": "markdown",
   "metadata": {},
   "source": [
    "# Voting\n",
    "\n",
    "Finally let's try combining these models to see if they have stronger predictive power together. Scikit-Learn does have ensemble classifiers but none support multilabel classification so I will adapt the sklearn class `VotingClassifier`"
   ]
  },
  {
   "cell_type": "code",
   "execution_count": null,
   "metadata": {
    "collapsed": true
   },
   "outputs": [],
   "source": [
    "class MultiLabelVotingClassifier(VotingClassifier):\n",
    "    def fit(self, X, Y):\n",
    "        self.estimators_ = [clf.fit(X, Y) for _, clf in self.estimators]\n",
    "        return self\n",
    "    \n",
    "    def predict(self, X):\n",
    "        predictions = self._predict(X)\n",
    "        maj = np.array([np.apply_along_axis(lambda x:np.argmax(np.bincount(x, weights=self.weights)),\n",
    "                                      axis=1,\n",
    "                                      arr=y.astype('int')).tolist() for y in predictions]).T\n",
    "        return maj"
   ]
  },
  {
   "cell_type": "markdown",
   "metadata": {},
   "source": [
    "We can try different combinations of models and give different weights to each model. However we need to have an odd number of models (or at least the sum of the weights must be odd) to ensure that there are no ties. The weights considered are as follows"
   ]
  },
  {
   "cell_type": "code",
   "execution_count": null,
   "metadata": {
    "collapsed": false
   },
   "outputs": [
    {
     "data": {
      "text/plain": [
       "[[0, 0, 0, 1],\n",
       " [0, 0, 1, 0],\n",
       " [0, 1, 0, 0],\n",
       " [0, 1, 1, 1],\n",
       " [1, 0, 0, 0],\n",
       " [1, 0, 1, 1],\n",
       " [1, 1, 0, 1],\n",
       " [1, 1, 1, 0],\n",
       " [2, 2, 2, 1],\n",
       " [2, 2, 1, 2],\n",
       " [2, 1, 2, 2],\n",
       " [2, 1, 1, 1],\n",
       " [1, 2, 2, 2],\n",
       " [1, 2, 1, 1],\n",
       " [1, 1, 2, 1],\n",
       " [1, 1, 1, 2]]"
      ]
     },
     "execution_count": 54,
     "metadata": {},
     "output_type": "execute_result"
    }
   ],
   "source": [
    "binaries = [[a,b,c,d] for a in [0,1] for b in [0,1] for c in [0,1] for d in [0,1] if (a+b+c+d)%2==1]\n",
    "sub2for0 = lambda lst : [2 if val==0 else val for val in lst]\n",
    "weights = binaries + [sub2for0(lst) for lst in binaries]\n",
    "weights"
   ]
  },
  {
   "cell_type": "code",
   "execution_count": null,
   "metadata": {
    "collapsed": false
   },
   "outputs": [
    {
     "name": "stdout",
     "output_type": "stream",
     "text": [
      "Fitting 3 folds for each of 16 candidates, totalling 48 fits\n"
     ]
    },
    {
     "name": "stderr",
     "output_type": "stream",
     "text": [
      "[Parallel(n_jobs=1)]: Done  48 out of  48 | elapsed: 93.2min finished\n"
     ]
    },
    {
     "name": "stdout",
     "output_type": "stream",
     "text": [
      "grid search best score =  0.575700248579\n",
      "grid search best param =  {'weights': [1, 1, 1, 0]}\n"
     ]
    }
   ],
   "source": [
    "ensembleModel =  MultiLabelVotingClassifier(estimators = [(\"NBModel\",naiveBayes),\n",
    "                                                          (\"randomForestModel\",randomForest),\n",
    "                                                          (\"linearSVCModel\",linearSVC),\n",
    "                                                          (\"SGDC\",SGDC)],\n",
    "                                            voting='hard', n_jobs = -1)\n",
    "\n",
    "ensembleParams = {\"weights\" : weights}\n",
    "ensemble = GridSearchCV(ensembleModel, param_grid=ensembleParams, \n",
    "                        scoring=customF1Scorer, verbose=1, refit=True, n_jobs=1, cv=3)\n",
    "\n",
    "ensemble.fit(X_wrangled, y_train)\n",
    "print \"grid search best score = \", ensemble.best_score_\n",
    "print \"grid search best param = \", ensemble.best_params_ "
   ]
  },
  {
   "cell_type": "markdown",
   "metadata": {},
   "source": [
    "This is a great result and is better than any of the models individually. The real test though is whether we have a generalised model or if we have somehow overfitted. Therefore the crucial result is the score on the test set."
   ]
  },
  {
   "cell_type": "markdown",
   "metadata": {},
   "source": [
    "# 6. Test set result"
   ]
  },
  {
   "cell_type": "markdown",
   "metadata": {},
   "source": [
    "The model that's been constructed is fairly easy to apply. We just preprocess the data, removing extranious tags, names and digits before stemming the text. Then we just predict the genres using the ensemble model trained earlier. "
   ]
  },
  {
   "cell_type": "code",
   "execution_count": 60,
   "metadata": {
    "collapsed": false
   },
   "outputs": [
    {
     "data": {
      "text/plain": [
       "0.56667200679164376"
      ]
     },
     "execution_count": 60,
     "metadata": {},
     "output_type": "execute_result"
    }
   ],
   "source": [
    "X_test_wrangled = preprocessing.transform(X_test)\n",
    "y_test_prediction = ensemble.predict(X_test_wrangled)\n",
    "averageF1Micro(y_test, y_test_prediction)"
   ]
  },
  {
   "cell_type": "markdown",
   "metadata": {},
   "source": [
    "# f1$_{micro}$ test score = 0.57\n",
    "This is an outstanding result for multilabel learning and demonstrates the successful application of text analysis in a multilabel problem. That the test score is so close to the training score indicates good generalization of the model to unseen data. \n",
    "\n",
    "If this were a stand alone product I would say that it was ready for release in beta. There is more work that can be done, and will be discussed below, but this is a great result and a useful algorithm."
   ]
  },
  {
   "cell_type": "markdown",
   "metadata": {},
   "source": [
    " "
   ]
  },
  {
   "cell_type": "markdown",
   "metadata": {},
   "source": [
    "# 7. A short discussion on future work\n",
    "\n",
    "Future work could focus on a number of different areas.\n",
    "\n",
    "I could extend the classifier either to sub-genres up front or subsequently after predicting the parent genre (hierarchical prediction). For example predicting 'Satire' or 'Slapstick' if the model predicts 'Comedy'. \n",
    "\n",
    "And looking beyond the synopsis data, I could try to improve the fit by using country and date information. On the latter I did explore but found little relation to the year a movie was released and it's likely genres, essentially the popular genres have remained at almost the same level of popularity for decades, with the one big exception being westerns and adult movies. I also explored a seasonality affect expecting that a sine wave could be fitted to genres which might be more likely to be released at certain times of the year. However while this may be true of a small number of hollywood blockbusters, it does not appear to be a trend evident in the data as a whole."
   ]
  }
 ],
 "metadata": {
  "kernelspec": {
   "display_name": "Python 2",
   "language": "python",
   "name": "python2"
  },
  "language_info": {
   "codemirror_mode": {
    "name": "ipython",
    "version": 2
   },
   "file_extension": ".py",
   "mimetype": "text/x-python",
   "name": "python",
   "nbconvert_exporter": "python",
   "pygments_lexer": "ipython2",
   "version": "2.7.10"
  }
 },
 "nbformat": 4,
 "nbformat_minor": 0
}
